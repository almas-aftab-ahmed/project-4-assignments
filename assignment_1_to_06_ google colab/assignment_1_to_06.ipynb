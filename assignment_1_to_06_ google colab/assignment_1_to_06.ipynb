{
  "nbformat": 4,
  "nbformat_minor": 0,
  "metadata": {
    "colab": {
      "provenance": []
    },
    "kernelspec": {
      "name": "python3",
      "display_name": "Python 3"
    },
    "language_info": {
      "name": "python"
    }
  },
  "cells": [
    {
      "cell_type": "markdown",
      "source": [
        "# ***projects to be submitted by students***\n",
        "## *  here they are :        *"
      ],
      "metadata": {
        "id": "kHXmZTtWXvkV"
      }
    },
    {
      "cell_type": "markdown",
      "source": [
        "# ***mad libs python project***"
      ],
      "metadata": {
        "id": "8LbFV5GXYKy0"
      }
    },
    {
      "cell_type": "code",
      "source": [
        "# Mad Libs Python Project\n",
        "\n",
        "def main():\n",
        "    # Introduction message\n",
        "    print(\"Welcome to the Mad Libs Game!\")\n",
        "\n",
        "    # Collecting inputs from the user\n",
        "    # These inputs will be used to generate the mad lib story\n",
        "    noun = input(\"Enter a noun: \")\n",
        "    verb = input(\"Enter a verb: \")\n",
        "    adjective = input(\"Enter an adjective: \")\n",
        "    adverb = input(\"Enter an adverb: \")\n",
        "    place = input(\"Enter a place: \")\n",
        "\n",
        "    # The mad lib story\n",
        "    mad_lib_story = f\"Once upon a time, there was a {adjective} {noun} who loved to {verb}. \" \\\n",
        "                     f\"One day, it traveled to {place} and {verb}ed {adverb} across the city.\"\n",
        "\n",
        "    # Printing the final Mad Libs story\n",
        "    print(\"\\nHere is your Mad Libs story:\\n\")\n",
        "    print(mad_lib_story)\n",
        "\n",
        "# Calling the main function to run the program\n",
        "if __name__ == \"__main__\":\n",
        "    main()\n"
      ],
      "metadata": {
        "colab": {
          "base_uri": "https://localhost:8080/"
        },
        "id": "xeofXu1EYTmW",
        "outputId": "9f330aab-6a1a-4a36-93b4-4c64d225a964"
      },
      "execution_count": 1,
      "outputs": [
        {
          "output_type": "stream",
          "name": "stdout",
          "text": [
            "Welcome to the Mad Libs Game!\n",
            "Enter a noun: cat\n",
            "Enter a verb: run\n",
            "Enter an adjective: fast and funny\n",
            "Enter an adverb: slowly\n",
            "Enter a place: garden\n",
            "\n",
            "Here is your Mad Libs story:\n",
            "\n",
            "Once upon a time, there was a fast and funny cat who loved to run. One day, it traveled to garden and runed slowly across the city.\n"
          ]
        }
      ]
    },
    {
      "cell_type": "markdown",
      "source": [
        "# ***Guess the Number Python Project computer ***"
      ],
      "metadata": {
        "id": "SsQuBKKbYssB"
      }
    },
    {
      "cell_type": "code",
      "source": [
        "import random  # Importing the random module to generate random numbers\n",
        "\n",
        "def guess_the_number():\n",
        "    # The computer selects a random number between 1 and 100\n",
        "    number_to_guess = random.randint(1, 100)\n",
        "\n",
        "    print(\"Welcome to the Guess the Number Game!\")\n",
        "    print(\"I am thinking of a number between 1 and 100.\")\n",
        "\n",
        "    # Initialize a variable to keep track of the number of guesses\n",
        "    attempts = 0\n",
        "\n",
        "    while True:\n",
        "        # Asking the user to enter their guess\n",
        "        user_guess = int(input(\"Enter your guess: \"))\n",
        "        attempts += 1  # Increment the attempt count\n",
        "\n",
        "        # Check if the guess is correct, too high, or too low\n",
        "        if user_guess < number_to_guess:\n",
        "            print(\"Your guess is too low. Try again!\")\n",
        "        elif user_guess > number_to_guess:\n",
        "            print(\"Your guess is too high. Try again!\")\n",
        "        else:\n",
        "            # User guessed the correct number\n",
        "            print(f\"Congrats! You guessed the number {number_to_guess} in {attempts} attempts.\")\n",
        "            break  # Exit the loop when the correct guess is made\n",
        "\n",
        "# Call the function to start the game\n",
        "if __name__ == \"__main__\":\n",
        "    guess_the_number()\n",
        "16\n"
      ],
      "metadata": {
        "colab": {
          "base_uri": "https://localhost:8080/"
        },
        "id": "Wk8YPUb0ZFRA",
        "outputId": "2fbbb754-4847-4f74-ba84-5084a65011fa"
      },
      "execution_count": 2,
      "outputs": [
        {
          "output_type": "stream",
          "name": "stdout",
          "text": [
            "Welcome to the Guess the Number Game!\n",
            "I am thinking of a number between 1 and 100.\n",
            "Enter your guess: 50\n",
            "Your guess is too high. Try again!\n",
            "Enter your guess: 40\n",
            "Your guess is too high. Try again!\n",
            "Enter your guess: 30\n",
            "Your guess is too high. Try again!\n",
            "Enter your guess: 20\n",
            "Your guess is too high. Try again!\n",
            "Enter your guess: 10\n",
            "Your guess is too low. Try again!\n",
            "Enter your guess: 11\n",
            "Your guess is too low. Try again!\n",
            "Enter your guess: 12\n",
            "Your guess is too low. Try again!\n",
            "Enter your guess: 13\n",
            "Your guess is too low. Try again!\n",
            "Enter your guess: 14\n",
            "Your guess is too low. Try again!\n",
            "Enter your guess: 15\n",
            "Congrats! You guessed the number 15 in 10 attempts.\n"
          ]
        }
      ]
    },
    {
      "cell_type": "markdown",
      "source": [
        "# ***Guess the Number Game Python project user***"
      ],
      "metadata": {
        "id": "9KF9HgDMZSzE"
      }
    },
    {
      "cell_type": "code",
      "source": [
        "def guess_the_number():\n",
        "    print(\"Welcome to the 'Guess the Number' game!\")\n",
        "    print(\"Please think of a number between 1 and 100 (inclusive), but don't tell me.\")\n",
        "    print(\"I will try to guess it.\")\n",
        "\n",
        "    # Define the range for the guess\n",
        "    low = 1\n",
        "    high = 100\n",
        "    attempts = 0\n",
        "\n",
        "    while True:\n",
        "        # The computer guesses the middle of the current range\n",
        "        guess = (low + high) // 2\n",
        "        attempts += 1\n",
        "\n",
        "        # Ask the user if the guess is too high, too low, or correct\n",
        "        user_feedback = input(f\"Is your number {guess}? (Enter 'h' if high, 'l' if low, 'c' if correct): \").lower()\n",
        "\n",
        "        # Check user's feedback\n",
        "        if user_feedback == 'h':\n",
        "            high = guess - 1  # The guess is too high, so reduce the high range\n",
        "        elif user_feedback == 'l':\n",
        "            low = guess + 1   # The guess is too low, so increase the low range\n",
        "        elif user_feedback == 'c':\n",
        "            print(f\"Yay! I guessed your number {guess} in {attempts} attempts.\")\n",
        "            break  # If the guess is correct, exit the loop\n",
        "        else:\n",
        "            print(\"Invalid input. Please enter 'h', 'l', or 'c'.\")\n",
        "\n",
        "# Call the function to start the game\n",
        "if __name__ == \"__main__\":\n",
        "    guess_the_number()\n"
      ],
      "metadata": {
        "colab": {
          "base_uri": "https://localhost:8080/"
        },
        "id": "5yMvPxg6ZeBy",
        "outputId": "3c87efbb-1886-4632-9165-3a064a990366"
      },
      "execution_count": 3,
      "outputs": [
        {
          "output_type": "stream",
          "name": "stdout",
          "text": [
            "Welcome to the 'Guess the Number' game!\n",
            "Please think of a number between 1 and 100 (inclusive), but don't tell me.\n",
            "I will try to guess it.\n",
            "Is your number 50? (Enter 'h' if high, 'l' if low, 'c' if correct): no\n",
            "Invalid input. Please enter 'h', 'l', or 'c'.\n",
            "Is your number 50? (Enter 'h' if high, 'l' if low, 'c' if correct): 40\n",
            "Invalid input. Please enter 'h', 'l', or 'c'.\n",
            "Is your number 50? (Enter 'h' if high, 'l' if low, 'c' if correct): 1\n",
            "Invalid input. Please enter 'h', 'l', or 'c'.\n",
            "Is your number 50? (Enter 'h' if high, 'l' if low, 'c' if correct): h\n",
            "Is your number 25? (Enter 'h' if high, 'l' if low, 'c' if correct): c\n",
            "Yay! I guessed your number 25 in 5 attempts.\n"
          ]
        }
      ]
    },
    {
      "cell_type": "markdown",
      "source": [
        "# ***Rock, Paper,Scissor Python Project***"
      ],
      "metadata": {
        "id": "2j1OoMeqaFa-"
      }
    },
    {
      "cell_type": "code",
      "source": [
        "import random\n",
        "\n",
        "def play_game():\n",
        "    # Define the choices\n",
        "    choices = [\"rock\", \"paper\", \"scissors\"]\n",
        "\n",
        "    # Display a welcome message\n",
        "    print(\"Welcome to Rock, Paper, Scissors game!\")\n",
        "    print(\"Enter 'rock', 'paper', or 'scissors' to play.\")\n",
        "    print(\"Type 'exit' to end the game.\")\n",
        "\n",
        "    while True:\n",
        "        # Ask the user for their choice\n",
        "        user_choice = input(\"Your choice: \").lower()\n",
        "\n",
        "        # If the user types 'exit', the game ends\n",
        "        if user_choice == 'exit':\n",
        "            print(\"Thanks for playing! Goodbye.\")\n",
        "            break\n",
        "\n",
        "        # Validate user input\n",
        "        if user_choice not in choices:\n",
        "            print(\"Invalid choice! Please choose 'rock', 'paper', or 'scissors'.\")\n",
        "            continue\n",
        "\n",
        "        # Computer's choice (random)\n",
        "        computer_choice = random.choice(choices)\n",
        "\n",
        "        # Display choices\n",
        "        print(f\"\\nYou chose: {user_choice}\")\n",
        "        print(f\"The computer chose: {computer_choice}\")\n",
        "\n",
        "        # Determine the winner\n",
        "        if user_choice == computer_choice:\n",
        "            print(\"It's a tie!\\n\")\n",
        "        elif (user_choice == \"rock\" and computer_choice == \"scissors\") or \\\n",
        "             (user_choice == \"scissors\" and computer_choice == \"paper\") or \\\n",
        "             (user_choice == \"paper\" and computer_choice == \"rock\"):\n",
        "            print(\"You win!\\n\")\n",
        "        else:\n",
        "            print(\"You lose!\\n\")\n",
        "\n",
        "# Start the game\n",
        "if __name__ == \"__main__\":\n",
        "    play_game()\n"
      ],
      "metadata": {
        "colab": {
          "base_uri": "https://localhost:8080/"
        },
        "id": "onIVORzsaNaB",
        "outputId": "de0fdb04-a8a5-475c-d41b-c925b6a34e47"
      },
      "execution_count": 4,
      "outputs": [
        {
          "output_type": "stream",
          "name": "stdout",
          "text": [
            "Welcome to Rock, Paper, Scissors game!\n",
            "Enter 'rock', 'paper', or 'scissors' to play.\n",
            "Type 'exit' to end the game.\n",
            "Your choice: rock\n",
            "\n",
            "You chose: rock\n",
            "The computer chose: scissors\n",
            "You win!\n",
            "\n",
            "Your choice: paPER\n",
            "\n",
            "You chose: paper\n",
            "The computer chose: paper\n",
            "It's a tie!\n",
            "\n",
            "Your choice: scissor\n",
            "Invalid choice! Please choose 'rock', 'paper', or 'scissors'.\n",
            "Your choice: scissors\n",
            "\n",
            "You chose: scissors\n",
            "The computer chose: paper\n",
            "You win!\n",
            "\n",
            "Your choice: \n",
            "Invalid choice! Please choose 'rock', 'paper', or 'scissors'.\n",
            "Your choice: exit\n",
            "Thanks for playing! Goodbye.\n"
          ]
        }
      ]
    },
    {
      "cell_type": "markdown",
      "source": [
        "# ***Hangman Python Project***"
      ],
      "metadata": {
        "id": "cBpSHlPwaiVf"
      }
    },
    {
      "cell_type": "code",
      "source": [
        "import random\n",
        "\n",
        "def hangman():\n",
        "    # List of words to choose from\n",
        "    words = [\"python\", \"programming\", \"hangman\", \"developer\", \"computer\", \"keyboard\", \"function\", \"variable\"]\n",
        "\n",
        "    # Randomly select a word from the list\n",
        "    word = random.choice(words)\n",
        "\n",
        "    # Set up variables for the game\n",
        "    guessed_letters = []\n",
        "    correct_letters = [\"_\"] * len(word)\n",
        "    attempts = 6  # Number of wrong attempts before losing\n",
        "    guessed_word = False\n",
        "\n",
        "    # Game introduction\n",
        "    print(\"Welcome to Hangman!\")\n",
        "    print(\"Try to guess the word, one letter at a time.\")\n",
        "    print(\"You have 6 chances to guess the wrong letter.\")\n",
        "\n",
        "    # Main game loop\n",
        "    while attempts > 0 and not guessed_word:\n",
        "        print(\"\\nCurrent word: \", \" \".join(correct_letters))\n",
        "        print(f\"Attempts left: {attempts}\")\n",
        "        print(f\"Guessed letters: {', '.join(guessed_letters)}\")\n",
        "\n",
        "        # Get the user's guess\n",
        "        guess = input(\"Guess a letter: \").lower()\n",
        "\n",
        "        # Check if input is valid\n",
        "        if len(guess) != 1 or not guess.isalpha():\n",
        "            print(\"Invalid input! Please enter a single letter.\")\n",
        "            continue\n",
        "\n",
        "        # Check if letter has already been guessed\n",
        "        if guess in guessed_letters:\n",
        "            print(\"You already guessed that letter!\")\n",
        "            continue\n",
        "\n",
        "        # Add the guess to the list of guessed letters\n",
        "        guessed_letters.append(guess)\n",
        "\n",
        "        # Check if the guess is in the word\n",
        "        if guess in word:\n",
        "            print(f\"Good job! '{guess}' is in the word.\")\n",
        "            # Update the correct letters list\n",
        "            for i in range(len(word)):\n",
        "                if word[i] == guess:\n",
        "                    correct_letters[i] = guess\n",
        "        else:\n",
        "            attempts -= 1\n",
        "            print(f\"Oops! '{guess}' is not in the word.\")\n",
        "\n",
        "        # Check if the user has guessed the word\n",
        "        if \"_\" not in correct_letters:\n",
        "            guessed_word = True\n",
        "\n",
        "    # End of game message\n",
        "    if guessed_word:\n",
        "        print(\"\\nCongratulations! You've guessed the word:\", word)\n",
        "    else:\n",
        "        print(f\"\\nSorry! You've run out of attempts. The word was: {word}\")\n",
        "\n",
        "# Start the game\n",
        "if __name__ == \"__main__\":\n",
        "    hangman()\n"
      ],
      "metadata": {
        "colab": {
          "base_uri": "https://localhost:8080/"
        },
        "id": "54w7mgJ3anCE",
        "outputId": "e4d1533b-7550-49bd-90d8-6fdd8391ec97"
      },
      "execution_count": 5,
      "outputs": [
        {
          "output_type": "stream",
          "name": "stdout",
          "text": [
            "Welcome to Hangman!\n",
            "Try to guess the word, one letter at a time.\n",
            "You have 6 chances to guess the wrong letter.\n",
            "\n",
            "Current word:  _ _ _ _ _ _ _ _\n",
            "Attempts left: 6\n",
            "Guessed letters: \n",
            "Guess a letter: p\n",
            "Good job! 'p' is in the word.\n",
            "\n",
            "Current word:  _ _ _ p _ _ _ _\n",
            "Attempts left: 6\n",
            "Guessed letters: p\n",
            "Guess a letter: y\n",
            "Oops! 'y' is not in the word.\n",
            "\n",
            "Current word:  _ _ _ p _ _ _ _\n",
            "Attempts left: 5\n",
            "Guessed letters: p, y\n",
            "Guess a letter: e\n",
            "Good job! 'e' is in the word.\n",
            "\n",
            "Current word:  _ _ _ p _ _ e _\n",
            "Attempts left: 5\n",
            "Guessed letters: p, y, e\n",
            "Guess a letter: r\n",
            "Good job! 'r' is in the word.\n",
            "\n",
            "Current word:  _ _ _ p _ _ e r\n",
            "Attempts left: 5\n",
            "Guessed letters: p, y, e, r\n",
            "Guess a letter: d\n",
            "Oops! 'd' is not in the word.\n",
            "\n",
            "Current word:  _ _ _ p _ _ e r\n",
            "Attempts left: 4\n",
            "Guessed letters: p, y, e, r, d\n",
            "Guess a letter: v\n",
            "Oops! 'v' is not in the word.\n",
            "\n",
            "Current word:  _ _ _ p _ _ e r\n",
            "Attempts left: 3\n",
            "Guessed letters: p, y, e, r, d, v\n",
            "Guess a letter: c\n",
            "Good job! 'c' is in the word.\n",
            "\n",
            "Current word:  c _ _ p _ _ e r\n",
            "Attempts left: 3\n",
            "Guessed letters: p, y, e, r, d, v, c\n",
            "Guess a letter: o\n",
            "Good job! 'o' is in the word.\n",
            "\n",
            "Current word:  c o _ p _ _ e r\n",
            "Attempts left: 3\n",
            "Guessed letters: p, y, e, r, d, v, c, o\n",
            "Guess a letter: m\n",
            "Good job! 'm' is in the word.\n",
            "\n",
            "Current word:  c o m p _ _ e r\n",
            "Attempts left: 3\n",
            "Guessed letters: p, y, e, r, d, v, c, o, m\n",
            "Guess a letter: t\n",
            "Good job! 't' is in the word.\n",
            "\n",
            "Current word:  c o m p _ t e r\n",
            "Attempts left: 3\n",
            "Guessed letters: p, y, e, r, d, v, c, o, m, t\n",
            "Guess a letter: u\n",
            "Good job! 'u' is in the word.\n",
            "\n",
            "Congratulations! You've guessed the word: computer\n"
          ]
        }
      ]
    },
    {
      "cell_type": "markdown",
      "source": [
        "# ***CountDown Timer Python Project***"
      ],
      "metadata": {
        "id": "gpZHSUObbLzP"
      }
    },
    {
      "cell_type": "code",
      "source": [
        "import time\n",
        "\n",
        "def countdown_timer(seconds):\n",
        "    try:\n",
        "        # Ensure the time entered is a positive integer\n",
        "        if seconds < 0:\n",
        "            print(\"Time must be a positive number.\")\n",
        "            return\n",
        "\n",
        "        print(f\"Starting countdown for {seconds} seconds...\\n\")\n",
        "\n",
        "        # Countdown loop\n",
        "        while seconds > 0:\n",
        "            print(f\"Time remaining: {seconds} seconds\", end=\"\\r\")  # \\r will overwrite the line\n",
        "            time.sleep(1)  # Wait for 1 second\n",
        "            seconds -= 1  # Decrease the time by 1 second\n",
        "\n",
        "        print(\"Time's up! Countdown finished.\")\n",
        "\n",
        "    except ValueError:\n",
        "        print(\"Please enter a valid number for the countdown time.\")\n",
        "\n",
        "# Main program\n",
        "if __name__ == \"__main__\":\n",
        "    # Ask the user to enter countdown time in seconds\n",
        "    try:\n",
        "        time_in_seconds = int(input(\"Enter the countdown time in seconds: \"))\n",
        "        countdown_timer(time_in_seconds)\n",
        "    except ValueError:\n",
        "        print(\"Please enter a valid integer number for the countdown time.\")\n"
      ],
      "metadata": {
        "colab": {
          "base_uri": "https://localhost:8080/"
        },
        "id": "PCcbrN7CbSLa",
        "outputId": "0822958a-5c9f-4489-ed4d-f511ef82acec"
      },
      "execution_count": 6,
      "outputs": [
        {
          "output_type": "stream",
          "name": "stdout",
          "text": [
            "Enter the countdown time in seconds: 7\n",
            "Starting countdown for 7 seconds...\n",
            "\n",
            "Time's up! Countdown finished.\n"
          ]
        }
      ]
    },
    {
      "cell_type": "markdown",
      "source": [
        "# ***Password Generator python project ***"
      ],
      "metadata": {
        "id": "YhFoSp5hbhcR"
      }
    },
    {
      "cell_type": "code",
      "source": [
        "import random\n",
        "import string\n",
        "\n",
        "def generate_password(length, use_digits=True, use_special_chars=True):\n",
        "    # Define the character sets based on the user's requirements\n",
        "    characters = string.ascii_letters  # Contains uppercase and lowercase letters\n",
        "    if use_digits:\n",
        "        characters += string.digits  # Adds digits (0-9)\n",
        "    if use_special_chars:\n",
        "        characters += string.punctuation  # Adds special characters like !@#$%\n",
        "\n",
        "    # Generate a random password of the specified length\n",
        "    password = ''.join(random.choice(characters) for i in range(length))\n",
        "    return password\n",
        "\n",
        "def main():\n",
        "    print(\"Welcome to the Password Generator!\")\n",
        "\n",
        "    try:\n",
        "        # User input for the password length\n",
        "        length = int(input(\"Enter the desired password length: \"))\n",
        "\n",
        "        # Ask the user if they want digits and special characters\n",
        "        use_digits = input(\"Include digits in the password? (yes/no): \").lower() == 'yes'\n",
        "        use_special_chars = input(\"Include special characters in the password? (yes/no): \").lower() == 'yes'\n",
        "\n",
        "        # Ensure password length is reasonable (greater than 0)\n",
        "        if length <= 0:\n",
        "            print(\"Password length must be greater than 0!\")\n",
        "            return\n",
        "\n",
        "        # Generate and display the password\n",
        "        password = generate_password(length, use_digits, use_special_chars)\n",
        "        print(f\"Generated Password: {password}\")\n",
        "\n",
        "    except ValueError:\n",
        "        print(\"Please enter a valid integer for password length.\")\n",
        "\n",
        "# Run the program\n",
        "if __name__ == \"__main__\":\n",
        "    main()\n"
      ],
      "metadata": {
        "colab": {
          "base_uri": "https://localhost:8080/"
        },
        "id": "A3oN6Juzboky",
        "outputId": "286a0170-6092-4a47-9d71-372d440327c6"
      },
      "execution_count": 7,
      "outputs": [
        {
          "output_type": "stream",
          "name": "stdout",
          "text": [
            "Welcome to the Password Generator!\n",
            "Enter the desired password length: 10\n",
            "Include digits in the password? (yes/no): yes\n",
            "Include special characters in the password? (yes/no): yes\n",
            "Generated Password: 5[BwiSR4gO\n"
          ]
        }
      ]
    },
    {
      "cell_type": "markdown",
      "source": [],
      "metadata": {
        "id": "-2A39BO1byq1"
      }
    }
  ]
}