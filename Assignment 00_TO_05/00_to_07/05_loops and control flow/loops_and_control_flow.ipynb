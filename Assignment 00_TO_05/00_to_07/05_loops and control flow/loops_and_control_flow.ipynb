{
  "nbformat": 4,
  "nbformat_minor": 0,
  "metadata": {
    "colab": {
      "provenance": []
    },
    "kernelspec": {
      "name": "python3",
      "display_name": "Python 3"
    },
    "language_info": {
      "name": "python"
    }
  },
  "cells": [
    {
      "cell_type": "markdown",
      "source": [
        "# ***00_guess_my_number***"
      ],
      "metadata": {
        "id": "5MbUEW_4QPIy"
      }
    },
    {
      "cell_type": "code",
      "source": [
        "import random\n",
        "\n",
        "def guess_my_number():\n",
        "    # Generate a random number between 0 and 99\n",
        "    number_to_guess = random.randint(0, 99)\n",
        "    print(\"I am thinking of a number between 0 and 99...\")\n",
        "\n",
        "    while True:\n",
        "        # Prompt the user for their guess\n",
        "        guess = int(input(\"Enter a guess: \"))\n",
        "\n",
        "        # Check if the guess is correct, too high, or too low\n",
        "        if guess < number_to_guess:\n",
        "            print(\"Your guess is too low\")\n",
        "        elif guess > number_to_guess:\n",
        "            print(\"Your guess is too high\")\n",
        "        else:\n",
        "            print(f\"Congrats! The number was: {number_to_guess}\")\n",
        "            break  # Exit the loop when the correct number is guessed\n",
        "\n",
        "def main():\n",
        "    guess_my_number()\n",
        "\n",
        "if __name__ == '__main__':\n",
        "    main()\n",
        "18\n"
      ],
      "metadata": {
        "colab": {
          "base_uri": "https://localhost:8080/"
        },
        "id": "hKrGhe9xQGWa",
        "outputId": "5a6719e4-b5af-4e62-92c6-d82eae5d97fa"
      },
      "execution_count": 1,
      "outputs": [
        {
          "output_type": "stream",
          "name": "stdout",
          "text": [
            "I am thinking of a number between 0 and 99...\n",
            "Enter a guess: 8\n",
            "Your guess is too low\n",
            "Enter a guess: 7\n",
            "Your guess is too low\n",
            "Enter a guess: 10\n",
            "Your guess is too low\n",
            "Enter a guess: 11\n",
            "Your guess is too low\n",
            "Enter a guess: 12\n",
            "Your guess is too low\n",
            "Enter a guess: 13\n",
            "Your guess is too low\n",
            "Enter a guess: 14\n",
            "Your guess is too low\n",
            "Enter a guess: 14\n",
            "Your guess is too low\n",
            "Enter a guess: 15\n",
            "Your guess is too low\n",
            "Enter a guess: 16\n",
            "Your guess is too low\n",
            "Enter a guess: 17\n",
            "Congrats! The number was: 17\n"
          ]
        }
      ]
    },
    {
      "cell_type": "markdown",
      "source": [
        "# ***01_fibonacci***"
      ],
      "metadata": {
        "id": "xwQeMe6rQpkW"
      }
    },
    {
      "cell_type": "code",
      "source": [
        "def fibonacci_sequence():\n",
        "    MAX_VALUE = 10000  # The maximum value for the Fibonacci sequence\n",
        "    fib_0, fib_1 = 0, 1  # The first two terms in the Fibonacci sequence\n",
        "\n",
        "    print(fib_0, end=\" \")  # Print the first term (Fib(0))\n",
        "    while fib_1 < MAX_VALUE:  # Continue while the next term is less than 10,000\n",
        "        print(fib_1, end=\" \")  # Print the current term\n",
        "        fib_0, fib_1 = fib_1, fib_0 + fib_1  # Update the terms\n",
        "\n",
        "def main():\n",
        "    fibonacci_sequence()\n",
        "\n",
        "if __name__ == '__main__':\n",
        "    main()\n"
      ],
      "metadata": {
        "colab": {
          "base_uri": "https://localhost:8080/"
        },
        "id": "7-0hjcogQwVm",
        "outputId": "fcbbd818-5516-485d-ecbe-19111435fd4f"
      },
      "execution_count": 2,
      "outputs": [
        {
          "output_type": "stream",
          "name": "stdout",
          "text": [
            "0 1 1 2 3 5 8 13 21 34 55 89 144 233 377 610 987 1597 2584 4181 6765 "
          ]
        }
      ]
    },
    {
      "cell_type": "markdown",
      "source": [
        "# ***02_print_events***"
      ],
      "metadata": {
        "id": "OGB15bqKQ27A"
      }
    },
    {
      "cell_type": "code",
      "source": [
        "def print_even_numbers():\n",
        "    count = 0\n",
        "    while count < 20:\n",
        "        print(count * 2, end=\" \")\n",
        "        count += 1\n",
        "\n",
        "def main():\n",
        "    print_even_numbers()\n",
        "\n",
        "if __name__ == '__main__':\n",
        "    main()\n"
      ],
      "metadata": {
        "colab": {
          "base_uri": "https://localhost:8080/"
        },
        "id": "JyfGLqYbQGcr",
        "outputId": "84d3b93d-fdad-44a4-ab46-5ae1be639430"
      },
      "execution_count": 3,
      "outputs": [
        {
          "output_type": "stream",
          "name": "stdout",
          "text": [
            "0 2 4 6 8 10 12 14 16 18 20 22 24 26 28 30 32 34 36 38 "
          ]
        }
      ]
    },
    {
      "cell_type": "markdown",
      "source": [
        "# ***03_wholesome_machine***"
      ],
      "metadata": {
        "id": "7hkpAkBsRHnp"
      }
    },
    {
      "cell_type": "code",
      "source": [
        "def main():\n",
        "    affirmation = \"I am capable of doing anything I put my mind to.\"\n",
        "\n",
        "    while True:\n",
        "        user_input = input(\"Please type the following affirmation: \")\n",
        "\n",
        "        if user_input == affirmation:\n",
        "            print(\"That's right! :)\")\n",
        "            break\n",
        "        else:\n",
        "            print(\"Hmmm That was not the affirmation.\")\n",
        "\n",
        "if __name__ == '__main__':\n",
        "    main()\n"
      ],
      "metadata": {
        "colab": {
          "base_uri": "https://localhost:8080/"
        },
        "id": "ndhFnlxnSDqe",
        "outputId": "f01b2fcb-a676-4d0e-967a-998198dad6ec"
      },
      "execution_count": 5,
      "outputs": [
        {
          "output_type": "stream",
          "name": "stdout",
          "text": [
            "Please type the following affirmation: I am capable of doing anything I put my mind to.\n",
            "That's right! :)\n"
          ]
        }
      ]
    },
    {
      "cell_type": "markdown",
      "source": [
        "# ***04_liftoff***"
      ],
      "metadata": {
        "id": "jlj2hzP4Sh3P"
      }
    },
    {
      "cell_type": "code",
      "source": [
        "def main():\n",
        "    for i in range(10, 0, -1):\n",
        "        print(i, end=\" \")\n",
        "    print(\"Liftoff!\")\n",
        "\n",
        "if __name__ == '__main__':\n",
        "    main()\n"
      ],
      "metadata": {
        "colab": {
          "base_uri": "https://localhost:8080/"
        },
        "id": "odvARnSLSm1t",
        "outputId": "d5ac430c-95c5-429d-b132-99df96a9d0af"
      },
      "execution_count": 6,
      "outputs": [
        {
          "output_type": "stream",
          "name": "stdout",
          "text": [
            "10 9 8 7 6 5 4 3 2 1 Liftoff!\n"
          ]
        }
      ]
    },
    {
      "cell_type": "markdown",
      "source": [
        "# ***05_double_it***"
      ],
      "metadata": {
        "id": "K20WUDmSSxMt"
      }
    },
    {
      "cell_type": "code",
      "source": [
        "def main():\n",
        "    # Ask the user to input a number\n",
        "    curr_value = int(input(\"Enter a number: \"))\n",
        "\n",
        "    # While loop that continues doubling the number until it's 100 or greater\n",
        "    while curr_value < 100:\n",
        "        curr_value = curr_value * 2\n",
        "        print(curr_value, end=\" \")\n",
        "\n",
        "if __name__ == '__main__':\n",
        "    main()\n",
        "\n"
      ],
      "metadata": {
        "colab": {
          "base_uri": "https://localhost:8080/"
        },
        "id": "Wu4mW74NSy6M",
        "outputId": "b84bbe51-37b9-4e3e-a6b0-541c292437a1"
      },
      "execution_count": 7,
      "outputs": [
        {
          "output_type": "stream",
          "name": "stdout",
          "text": [
            "Enter a number: 6\n",
            "12 24 48 96 192 "
          ]
        }
      ]
    }
  ]
}