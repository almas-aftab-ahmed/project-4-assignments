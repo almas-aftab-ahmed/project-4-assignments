{
  "nbformat": 4,
  "nbformat_minor": 0,
  "metadata": {
    "colab": {
      "provenance": []
    },
    "kernelspec": {
      "name": "python3",
      "display_name": "Python 3"
    },
    "language_info": {
      "name": "python"
    }
  },
  "cells": [
    {
      "cell_type": "markdown",
      "source": [
        "# **01_expressions**\n",
        "\n",
        "   **Dice SIMULATOR**"
      ],
      "metadata": {
        "id": "2FKpGAhv_yaZ"
      }
    },
    {
      "cell_type": "code",
      "source": [
        "import random\n",
        "\n",
        "# Number of sides on each die to roll\n",
        "NUM_SIDES = 6\n",
        "\n",
        "def roll_dice():\n",
        "    \"\"\"\n",
        "    Simulates rolling two dice and prints their total\n",
        "    \"\"\"\n",
        "    die1 = random.randint(1, NUM_SIDES)\n",
        "    die2 = random.randint(1, NUM_SIDES)\n",
        "    total = die1 + die2\n",
        "    print(\"Total of two dice:\", total)\n",
        "\n",
        "def main():\n",
        "    die1 = 10  # Local variable inside main()\n",
        "    print(\"die1 in main() starts as:\", die1)\n",
        "\n",
        "    # Calling roll_dice() three times\n",
        "    roll_dice()\n",
        "    roll_dice()\n",
        "    roll_dice()\n",
        "\n",
        "    print(\"die1 in main() is:\", die1)  # die1 in main() remains unchanged\n",
        "\n",
        "# This provided line is required at the end of a Python\n",
        "# to call the main() function.\n",
        "if __name__ == '__main__':\n",
        "    main()\n"
      ],
      "metadata": {
        "colab": {
          "base_uri": "https://localhost:8080/"
        },
        "id": "_vWYXrTmAR-p",
        "outputId": "477d36fa-becc-4b59-8015-e4bb8fb4ffe5"
      },
      "execution_count": 1,
      "outputs": [
        {
          "output_type": "stream",
          "name": "stdout",
          "text": [
            "die1 in main() starts as: 10\n",
            "Total of two dice: 6\n",
            "Total of two dice: 9\n",
            "Total of two dice: 6\n",
            "die1 in main() is: 10\n"
          ]
        }
      ]
    },
    {
      "cell_type": "markdown",
      "source": [
        "# **02_E=MC2**"
      ],
      "metadata": {
        "id": "tZZtr1w4ApQR"
      }
    },
    {
      "cell_type": "code",
      "source": [
        "C: int = 299792458  # The speed of light in m/s\n",
        "\n",
        "def main():\n",
        "    mass_in_kg: float = float(input(\"Enter kilos of mass: \"))\n",
        "\n",
        "    # Calculate energy using E = m * C^2\n",
        "    energy_in_joules: float = mass_in_kg * (C ** 2)\n",
        "\n",
        "    # Display results\n",
        "    print(\"e = m * C^2...\")\n",
        "    print(\"m = \" + str(mass_in_kg) + \" kg\")\n",
        "    print(\"C = \" + str(C) + \" m/s\")\n",
        "    print(str(energy_in_joules) + \" joules of energy!\")\n",
        "\n",
        "\n",
        "if __name__ == '__main__':\n",
        "    main()\n"
      ],
      "metadata": {
        "colab": {
          "base_uri": "https://localhost:8080/"
        },
        "id": "PHvz06uOA6cl",
        "outputId": "492a2907-93af-4899-fd5f-ac024d8516c7"
      },
      "execution_count": 2,
      "outputs": [
        {
          "output_type": "stream",
          "name": "stdout",
          "text": [
            "Enter kilos of mass: 80\n",
            "e = m * C^2...\n",
            "m = 80.0 kg\n",
            "C = 299792458 m/s\n",
            "7.190041429894541e+18 joules of energy!\n"
          ]
        }
      ]
    },
    {
      "cell_type": "markdown",
      "source": [
        "# **03_Inches into Foot**"
      ],
      "metadata": {
        "id": "oBZasRqLBC0G"
      }
    },
    {
      "cell_type": "code",
      "source": [
        "\n",
        "\n",
        "INCHES_IN_FOOT: int = 12  # Conversion factor. There are 12 inches in 1 foot.\n",
        "\n",
        "def main():\n",
        "    feet: float = float(input(\"Enter number of feet: \"))  # Get the number of feet from user\n",
        "    inches: float = feet * INCHES_IN_FOOT  # Convert feet to inches\n",
        "    print(\"That is\", inches, \"inches!\")  # Display result\n",
        "\n",
        "\n",
        "if __name__ == '__main__':\n",
        "    main()\n"
      ],
      "metadata": {
        "colab": {
          "base_uri": "https://localhost:8080/"
        },
        "id": "ItkJVgT1BThQ",
        "outputId": "bdfd8ea3-043b-47d6-cd36-c845ce519c70"
      },
      "execution_count": 3,
      "outputs": [
        {
          "output_type": "stream",
          "name": "stdout",
          "text": [
            "Enter number of feet: 9\n",
            "That is 108.0 inches!\n"
          ]
        }
      ]
    },
    {
      "cell_type": "markdown",
      "source": [
        "# **04_Pythagorean theorem **"
      ],
      "metadata": {
        "id": "OIGh6tXuBkU7"
      }
    },
    {
      "cell_type": "code",
      "source": [
        "import math  # Import the math library to use the sqrt function\n",
        "\n",
        "def main():\n",
        "    # Get the two side lengths from the user and cast them to numbers\n",
        "    ab: float = float(input(\"Enter the length of AB: \"))\n",
        "    ac: float = float(input(\"Enter the length of AC: \"))\n",
        "\n",
        "    # Calculate the hypotenuse using the Pythagorean theorem\n",
        "    bc: float = math.sqrt(ab**2 + ac**2)\n",
        "\n",
        "    # Print the result\n",
        "    print(\"The length of BC (the hypotenuse) is:\", bc)\n",
        "\n",
        "\n",
        "if __name__ == '__main__':\n",
        "    main()\n"
      ],
      "metadata": {
        "colab": {
          "base_uri": "https://localhost:8080/"
        },
        "id": "ysLfG1iWBu_u",
        "outputId": "987fbeac-f60a-474b-957f-90b4460ea57f"
      },
      "execution_count": 4,
      "outputs": [
        {
          "output_type": "stream",
          "name": "stdout",
          "text": [
            "Enter the length of AB: 6\n",
            "Enter the length of AC: 9\n",
            "The length of BC (the hypotenuse) is: 10.816653826391969\n"
          ]
        }
      ]
    },
    {
      "cell_type": "markdown",
      "source": [
        "# **05_remainder_division**"
      ],
      "metadata": {
        "id": "SuznpMPfCDbu"
      }
    },
    {
      "cell_type": "code",
      "source": [
        "def main():\n",
        "    # Get the numbers we want to divide\n",
        "    dividend: int = int(input(\"Please enter an integer to be divided: \"))\n",
        "    divisor: int = int(input(\"Please enter an integer to divide by: \"))\n",
        "\n",
        "    # Perform integer division and get the remainder\n",
        "    quotient: int = dividend // divisor  # Integer division (no decimals)\n",
        "    remainder: int = dividend % divisor  # Modulo operation (remainder)\n",
        "\n",
        "    # Print the result\n",
        "    print(\"The result of this division is\", quotient, \"with a remainder of\", remainder)\n",
        "\n",
        "\n",
        "\n",
        "if __name__ == '__main__':\n",
        "    main()\n"
      ],
      "metadata": {
        "colab": {
          "base_uri": "https://localhost:8080/"
        },
        "id": "IBZXcZrxCIEN",
        "outputId": "7f9359ea-f48b-4474-dd1a-b8ea388d75dc"
      },
      "execution_count": 5,
      "outputs": [
        {
          "output_type": "stream",
          "name": "stdout",
          "text": [
            "Please enter an integer to be divided: 7\n",
            "Please enter an integer to divide by: 19\n",
            "The result of this division is 0 with a remainder of 7\n"
          ]
        }
      ]
    },
    {
      "cell_type": "markdown",
      "source": [
        "# **06_rolldice**"
      ],
      "metadata": {
        "id": "_NK-6cV1CalM"
      }
    },
    {
      "cell_type": "code",
      "source": [
        "\"\"\"\n",
        "Simulate rolling two dice, and print results of each\n",
        "roll as well as the total.\n",
        "\"\"\"\n",
        "import random  # Import the random library for generating random numbers\n",
        "\n",
        "# Number of sides on each die\n",
        "NUM_SIDES: int = 6\n",
        "\n",
        "def main():\n",
        "    # Roll two dice\n",
        "    die1: int = random.randint(1, NUM_SIDES)\n",
        "    die2: int = random.randint(1, NUM_SIDES)\n",
        "\n",
        "    # Calculate total\n",
        "    total: int = die1 + die2\n",
        "\n",
        "    # Print the results\n",
        "    print(\"Dice have\", NUM_SIDES, \"sides each.\")\n",
        "    print(\"First die:\", die1)\n",
        "    print(\"Second die:\", die2)\n",
        "    print(\"Total of two dice:\", total)\n",
        "\n",
        "if __name__ == '__main__':\n",
        "    main()\n"
      ],
      "metadata": {
        "colab": {
          "base_uri": "https://localhost:8080/"
        },
        "id": "aRz-CNRkCe-f",
        "outputId": "da0d389c-0615-48b1-ed98-4bf89899fb57"
      },
      "execution_count": 6,
      "outputs": [
        {
          "output_type": "stream",
          "name": "stdout",
          "text": [
            "Dice have 6 sides each.\n",
            "First die: 5\n",
            "Second die: 3\n",
            "Total of two dice: 8\n"
          ]
        }
      ]
    },
    {
      "cell_type": "markdown",
      "source": [
        "# **07_tiny_mad_lib**"
      ],
      "metadata": {
        "id": "HxSsIXxMCrsr"
      }
    },
    {
      "cell_type": "code",
      "source": [
        "SENTENCE_START: str = \"Panaversity is fun. I learned to program and used Python to make my \"  # Start of the sentence\n",
        "\n",
        "def main():\n",
        "    # take user input\n",
        "    adjective: str = input(\"Please type an adjective and press enter: \")\n",
        "    noun: str = input(\"Please type a noun and press enter: \")\n",
        "    verb: str = input(\"Please type a verb and press enter: \")\n",
        "\n",
        "    # Final sentence generations\n",
        "    print(SENTENCE_START + adjective + \" \" + noun + \" \" + verb + \"!\")\n",
        "\n",
        "\n",
        "if __name__ == '__main__':\n",
        "    main()\n"
      ],
      "metadata": {
        "colab": {
          "base_uri": "https://localhost:8080/"
        },
        "id": "eoeiNwwjCt_3",
        "outputId": "00d518ad-ee0e-47a1-b07d-2c4209b2add1"
      },
      "execution_count": 7,
      "outputs": [
        {
          "output_type": "stream",
          "name": "stdout",
          "text": [
            "Please type an adjective and press enter: hot\n",
            "Please type a noun and press enter: almas \n",
            "Please type a verb and press enter: run\n",
            "Panaversity is fun. I learned to program and used Python to make my hot almas  run!\n"
          ]
        }
      ]
    }
  ]
}