{
  "nbformat": 4,
  "nbformat_minor": 0,
  "metadata": {
    "colab": {
      "provenance": []
    },
    "kernelspec": {
      "name": "python3",
      "display_name": "Python 3"
    },
    "language_info": {
      "name": "python"
    }
  },
  "cells": [
    {
      "cell_type": "markdown",
      "source": [
        "# ***00_count_nums***"
      ],
      "metadata": {
        "id": "h8Vvb0oUK61n"
      }
    },
    {
      "cell_type": "code",
      "source": [
        "def get_user_numbers():\n",
        "    \"\"\"\n",
        "    This function keeps asking the user to enter numbers\n",
        "    until they press Enter on a blank line.\n",
        "    All entered numbers are stored in a list.\n",
        "    \"\"\"\n",
        "    numbers = []\n",
        "\n",
        "    while True:\n",
        "        user_input = input(\"Enter a number: \")\n",
        "\n",
        "        # If the user enters a blank input (just presses Enter), exit the loop\n",
        "        if user_input == \"\":\n",
        "            break\n",
        "\n",
        "        # Convert input to integer and add it to the list\n",
        "        num = int(user_input)\n",
        "        numbers.append(num)\n",
        "\n",
        "    return numbers\n",
        "\n",
        "\n",
        "def count_numbers(numbers_list):\n",
        "    \"\"\"\n",
        "    This function creates a dictionary where the keys are the numbers\n",
        "    and the values are how many times each number appears.\n",
        "    \"\"\"\n",
        "    number_counts = {}\n",
        "\n",
        "    for num in numbers_list:\n",
        "        # If the number appears for the first time, set its value to 1\n",
        "        if num not in number_counts:\n",
        "            number_counts[num] = 1\n",
        "        else:\n",
        "            # If the number is already in the dictionary, increase its count by 1\n",
        "            number_counts[num] += 1\n",
        "\n",
        "    return number_counts\n",
        "\n",
        "\n",
        "def print_number_counts(counts_dict):\n",
        "    \"\"\"\n",
        "    This function loops through the dictionary and prints each number\n",
        "    along with how many times it appears.\n",
        "    \"\"\"\n",
        "    for num in counts_dict:\n",
        "        print(f\"{num} appears {counts_dict[num]} times.\")\n",
        "\n",
        "\n",
        "def main():\n",
        "    \"\"\"\n",
        "    The main function controls the full flow:\n",
        "    1. Get numbers from the user\n",
        "    2. Count how many times each number appears\n",
        "    3. Print the results\n",
        "    \"\"\"\n",
        "    user_numbers = get_user_numbers()\n",
        "    counts = count_numbers(user_numbers)\n",
        "    print_number_counts(counts)\n",
        "\n",
        "\n",
        "# Boilerplate line — Python starts running the program from here\n",
        "if __name__ == '__main__':\n",
        "    main()\n"
      ],
      "metadata": {
        "colab": {
          "base_uri": "https://localhost:8080/"
        },
        "id": "NXAsT8A7K-MX",
        "outputId": "9167c5f2-2f08-4041-fa77-45cb9ba78f17"
      },
      "execution_count": 1,
      "outputs": [
        {
          "output_type": "stream",
          "name": "stdout",
          "text": [
            "Enter a number: 6\n",
            "Enter a number: 7\n",
            "Enter a number: 6\n",
            "Enter a number: 0\n",
            "Enter a number: 9\n",
            "Enter a number: 8\n",
            "Enter a number: 7\n",
            "Enter a number: 9\n",
            "Enter a number: 4\n",
            "Enter a number: 3\n",
            "Enter a number: 20\n",
            "Enter a number: 6\n",
            "Enter a number: 3\n",
            "Enter a number: 3\n",
            "Enter a number: 2\n",
            "Enter a number: 1\n",
            "Enter a number: 20\n",
            "Enter a number: 12\n",
            "Enter a number: 21\n",
            "Enter a number: 34\n",
            "Enter a number: 6\n",
            "Enter a number: 0\n",
            "Enter a number: 1\n",
            "Enter a number: 1\n",
            "Enter a number: 1\n",
            "Enter a number: \n",
            "6 appears 4 times.\n",
            "7 appears 2 times.\n",
            "0 appears 2 times.\n",
            "9 appears 2 times.\n",
            "8 appears 1 times.\n",
            "4 appears 1 times.\n",
            "3 appears 3 times.\n",
            "20 appears 2 times.\n",
            "2 appears 1 times.\n",
            "1 appears 4 times.\n",
            "12 appears 1 times.\n",
            "21 appears 1 times.\n",
            "34 appears 1 times.\n"
          ]
        }
      ]
    },
    {
      "cell_type": "markdown",
      "source": [],
      "metadata": {
        "id": "78_p_ZVkMQf7"
      }
    },
    {
      "cell_type": "markdown",
      "source": [
        "# ***01_phonebook***"
      ],
      "metadata": {
        "id": "OBEu4ZS3MZCr"
      }
    },
    {
      "cell_type": "code",
      "source": [
        "def read_phone_numbers():\n",
        "    \"\"\"\n",
        "    This function asks the user to enter names and phone numbers,\n",
        "    and stores them in a dictionary called phonebook.\n",
        "    It stops when the user enters a blank name.\n",
        "    \"\"\"\n",
        "    phonebook = {}  # Create an empty dictionary to store name-number pairs\n",
        "\n",
        "    while True:\n",
        "        name = input(\"Name: \")\n",
        "\n",
        "        # If the name is blank, stop taking input\n",
        "        if name == \"\":\n",
        "            break\n",
        "\n",
        "        number = input(\"Number: \")\n",
        "        phonebook[name] = number  # Add name and number to the phonebook\n",
        "\n",
        "    return phonebook\n",
        "\n",
        "\n",
        "def print_phonebook(phonebook):\n",
        "    \"\"\"\n",
        "    This function prints out all entries in the phonebook.\n",
        "    Each entry is shown as: Name -> Number\n",
        "    \"\"\"\n",
        "    print(\"\\nPhonebook Entries:\")\n",
        "    for name in phonebook:\n",
        "        print(f\"{name} -> {phonebook[name]}\")\n",
        "\n",
        "\n",
        "def lookup_numbers(phonebook):\n",
        "    \"\"\"\n",
        "    This function lets the user look up a number by entering a name.\n",
        "    It will search the phonebook and return the number if found.\n",
        "    \"\"\"\n",
        "    print(\"\\nPhone Number Lookup:\")\n",
        "    while True:\n",
        "        name = input(\"Enter name to lookup: \")\n",
        "\n",
        "        # Stop when the user enters a blank name\n",
        "        if name == \"\":\n",
        "            break\n",
        "\n",
        "        if name not in phonebook:\n",
        "            print(f\"{name} is not in the phonebook.\")\n",
        "        else:\n",
        "            print(f\"{name}'s number is: {phonebook[name]}\")\n",
        "\n",
        "\n",
        "def main():\n",
        "    \"\"\"\n",
        "    Main function to run the phonebook program:\n",
        "    1. Read and store phonebook data\n",
        "    2. Print all entries\n",
        "    3. Allow number lookups\n",
        "    \"\"\"\n",
        "    phonebook = read_phone_numbers()\n",
        "    print_phonebook(phonebook)\n",
        "    lookup_numbers(phonebook)\n",
        "\n",
        "\n",
        "# Boilerplate code — Python starts executing from here\n",
        "if __name__ == '__main__':\n",
        "    main()\n"
      ],
      "metadata": {
        "colab": {
          "base_uri": "https://localhost:8080/"
        },
        "id": "LQUcuOV2Md2h",
        "outputId": "ad54340e-694a-4376-ec59-881c8ca9237b"
      },
      "execution_count": 2,
      "outputs": [
        {
          "name": "stdout",
          "output_type": "stream",
          "text": [
            "Name: almas aftab\n",
            "Number: 09274625556\n",
            "Name: manish malhotra\n",
            "Number: 9173647585\n",
            "Name: sid and priya\n",
            "Number: 048578648\n",
            "Name: \n",
            "\n",
            "Phonebook Entries:\n",
            "almas aftab -> 09274625556\n",
            "manish malhotra -> 9173647585\n",
            "sid and priya -> 048578648\n",
            "\n",
            "Phone Number Lookup:\n",
            "Enter name to lookup: almas\n",
            "almas is not in the phonebook.\n",
            "Enter name to lookup: almas aftab\n",
            "almas aftab's number is: 09274625556\n",
            "Enter name to lookup: manish khan\n",
            "manish khan is not in the phonebook.\n",
            "Enter name to lookup: manish malhotra\n",
            "manish malhotra's number is: 9173647585\n",
            "Enter name to lookup: sid and priya\n",
            "sid and priya's number is: 048578648\n",
            "Enter name to lookup: koko\n",
            "koko is not in the phonebook.\n",
            "Enter name to lookup: \n"
          ]
        }
      ]
    },
    {
      "cell_type": "markdown",
      "source": [
        "# ***02_pop_up_shop***"
      ],
      "metadata": {
        "id": "_pd8oNypNH_W"
      }
    },
    {
      "cell_type": "code",
      "source": [
        "def main():\n",
        "    \"\"\"\n",
        "    This program calculates the total cost of fruits a user wants to buy\n",
        "    by asking how many of each fruit they want and multiplying it by the fruit's price.\n",
        "    \"\"\"\n",
        "\n",
        "    # Dictionary containing fruit names and their price per item\n",
        "    fruits = {\n",
        "        'pineapple': 1.5,\n",
        "        'durian': 50,\n",
        "        'jackfruit': 80,\n",
        "        'kiwi': 1,\n",
        "        'rambutan': 1.5,\n",
        "        'mango': 5\n",
        "    }\n",
        "\n",
        "    total_cost = 0  # Variable to keep track of the total amount\n",
        "\n",
        "    # Loop through each fruit in the dictionary\n",
        "    for fruit_name in fruits:\n",
        "        price = fruits[fruit_name]  # Get the price of the current fruit\n",
        "\n",
        "        # Ask the user how many they want to buy\n",
        "        amount_bought = int(input(f\"How many ({fruit_name}) do you want to buy?: \"))\n",
        "\n",
        "        # Multiply the price by the amount and add it to the total cost\n",
        "        total_cost += price * amount_bought\n",
        "\n",
        "    # Print the total cost\n",
        "    print(f\"\\nYour total is ${total_cost}\")\n",
        "\n",
        "\n",
        "# Boilerplate code — tells Python where to start executing\n",
        "if __name__ == '__main__':\n",
        "    main()\n"
      ],
      "metadata": {
        "colab": {
          "base_uri": "https://localhost:8080/"
        },
        "id": "FgdbTpsVNL-R",
        "outputId": "5648d89c-e86e-4246-987d-1e19043e9bde"
      },
      "execution_count": 3,
      "outputs": [
        {
          "output_type": "stream",
          "name": "stdout",
          "text": [
            "How many (pineapple) do you want to buy?: 10\n",
            "How many (durian) do you want to buy?: 5\n",
            "How many (jackfruit) do you want to buy?: 2\n",
            "How many (kiwi) do you want to buy?: 7\n",
            "How many (rambutan) do you want to buy?: 15\n",
            "How many (mango) do you want to buy?: 100\n",
            "\n",
            "Your total is $954.5\n"
          ]
        }
      ]
    },
    {
      "cell_type": "markdown",
      "source": [
        "# ***03_powerful_passwords***"
      ],
      "metadata": {
        "id": "OgqNNT-UNz74"
      }
    },
    {
      "cell_type": "code",
      "source": [
        "from hashlib import sha256\n",
        "\n",
        "def hash_password(password):\n",
        "    \"\"\"\n",
        "    Converts a plain text password into a hashed version using SHA256.\n",
        "\n",
        "    Parameters:\n",
        "        password (str): The password we want to hash.\n",
        "\n",
        "    Returns:\n",
        "        str: The SHA256 hashed version of the password.\n",
        "    \"\"\"\n",
        "    return sha256(password.encode()).hexdigest()\n",
        "\n",
        "\n",
        "def login(email, stored_logins, password_to_check):\n",
        "    \"\"\"\n",
        "    Verifies whether the password entered by the user matches the stored hashed password.\n",
        "\n",
        "    Parameters:\n",
        "        email (str): The email ID to check the password for.\n",
        "        stored_logins (dict): A dictionary mapping emails to their hashed passwords.\n",
        "        password_to_check (str): The plain text password entered by the user.\n",
        "\n",
        "    Returns:\n",
        "        bool: True if the password is correct, False otherwise.\n",
        "    \"\"\"\n",
        "    # First, hash the entered password\n",
        "    hashed_password = hash_password(password_to_check)\n",
        "\n",
        "    # Compare it with the stored hashed password\n",
        "    if stored_logins.get(email) == hashed_password:\n",
        "        return True\n",
        "    else:\n",
        "        return False\n",
        "\n",
        "\n",
        "def main():\n",
        "    \"\"\"\n",
        "    Main function that initializes the stored logins and tests multiple login attempts.\n",
        "    \"\"\"\n",
        "    # Stored email-password pairs with hashed passwords\n",
        "    stored_logins = {\n",
        "        \"example@gmail.com\": \"5e884898da28047151d0e56f8dc6292773603d0d6aabbdd62a11ef721d1542d8\",      # password\n",
        "        \"code_in_placer@cip.org\": \"973607a4ae7b4cf7d96a100b0fb07e8519cc4f70441d41214a9f811577bb06cc\",   # Karel\n",
        "        \"student@stanford.edu\": \"882c6df720fd99f5eebb1581a1cf975625cea8a160283011c0b9512bb56c95fb\"      # password\n",
        "    }\n",
        "\n",
        "    # Test cases\n",
        "    print(login(\"example@gmail.com\", stored_logins, \"word\"))           # False\n",
        "    print(login(\"example@gmail.com\", stored_logins, \"password\"))       # True\n",
        "\n",
        "    print(login(\"code_in_placer@cip.org\", stored_logins, \"Karel\"))     # True\n",
        "    print(login(\"code_in_placer@cip.org\", stored_logins, \"karel\"))     # False\n",
        "\n",
        "    print(login(\"student@stanford.edu\", stored_logins, \"password\"))    # True\n",
        "    print(login(\"student@stanford.edu\", stored_logins, \"123!456?789\")) # False\n",
        "\n",
        "\n",
        "# This line ensures that main() runs when the file is executed\n",
        "if __name__ == '__main__':\n",
        "    main()\n"
      ],
      "metadata": {
        "colab": {
          "base_uri": "https://localhost:8080/"
        },
        "id": "ckHV_2O6MsAA",
        "outputId": "cb18ca35-953e-4456-8d39-c82087482be0"
      },
      "execution_count": 4,
      "outputs": [
        {
          "output_type": "stream",
          "name": "stdout",
          "text": [
            "False\n",
            "True\n",
            "False\n",
            "True\n",
            "False\n",
            "True\n"
          ]
        }
      ]
    }
  ]
}