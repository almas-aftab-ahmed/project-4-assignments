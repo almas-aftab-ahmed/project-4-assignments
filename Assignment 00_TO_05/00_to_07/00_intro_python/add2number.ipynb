{
  "nbformat": 4,
  "nbformat_minor": 0,
  "metadata": {
    "colab": {
      "provenance": []
    },
    "kernelspec": {
      "name": "python3",
      "display_name": "Python 3"
    },
    "language_info": {
      "name": "python"
    }
  },
  "cells": [
    {
      "cell_type": "markdown",
      "source": [
        "\n",
        "# ***Add 2 Numbers program***"
      ],
      "metadata": {
        "id": "euCilikk2XhD"
      }
    },
    {
      "cell_type": "code",
      "source": [
        "def main():\n",
        "    print(\"Welcome! Let's add two numbers.\")\n"
      ],
      "metadata": {
        "id": "dWgcBymE1Voi"
      },
      "execution_count": 16,
      "outputs": []
    },
    {
      "cell_type": "code",
      "source": [
        "    first_num = int(input(\"Please enter the first number: \"))\n"
      ],
      "metadata": {
        "colab": {
          "base_uri": "https://localhost:8080/"
        },
        "id": "qwQLcSH11kq7",
        "outputId": "722b2070-2e9b-483e-a8ab-ea2d845f5f00"
      },
      "execution_count": 17,
      "outputs": [
        {
          "name": "stdout",
          "output_type": "stream",
          "text": [
            "Please enter the first number: 7\n"
          ]
        }
      ]
    },
    {
      "cell_type": "code",
      "source": [
        "    second_num = int(input(\"Now enter the second number: \"))\n"
      ],
      "metadata": {
        "colab": {
          "base_uri": "https://localhost:8080/"
        },
        "id": "6vxGf-311lQ6",
        "outputId": "d34eec13-8aea-491c-9603-455a8c5f4f47"
      },
      "execution_count": 18,
      "outputs": [
        {
          "name": "stdout",
          "output_type": "stream",
          "text": [
            "Now enter the second number: 9\n"
          ]
        }
      ]
    },
    {
      "cell_type": "code",
      "source": [
        "    total = first_num + second_num  # Calculate sum\n"
      ],
      "metadata": {
        "id": "km6CvPux14Y-"
      },
      "execution_count": 19,
      "outputs": []
    },
    {
      "cell_type": "code",
      "source": [
        "    print(f\"The sum of {first_num} and {second_num} is {total}.\")\n"
      ],
      "metadata": {
        "colab": {
          "base_uri": "https://localhost:8080/"
        },
        "id": "AKjS_Fkg1-A0",
        "outputId": "f73d0a2b-4800-42d1-b472-771bdf3f4262"
      },
      "execution_count": 21,
      "outputs": [
        {
          "output_type": "stream",
          "name": "stdout",
          "text": [
            "The sum of 7 and 9 is 16.\n"
          ]
        }
      ]
    },
    {
      "cell_type": "code",
      "source": [
        "if __name__ == '__main__':\n",
        "    main()\n"
      ],
      "metadata": {
        "colab": {
          "base_uri": "https://localhost:8080/"
        },
        "id": "N6YiVBKB2EXW",
        "outputId": "4dc0c2bf-08c5-496d-c4c8-b2d61a93afc5"
      },
      "execution_count": 22,
      "outputs": [
        {
          "output_type": "stream",
          "name": "stdout",
          "text": [
            "Welcome! Let's add two numbers.\n"
          ]
        }
      ]
    },
    {
      "cell_type": "markdown",
      "source": [],
      "metadata": {
        "id": "6e63iuv32QtI"
      }
    }
  ]
}