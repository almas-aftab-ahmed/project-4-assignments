{
  "nbformat": 4,
  "nbformat_minor": 0,
  "metadata": {
    "colab": {
      "provenance": []
    },
    "kernelspec": {
      "name": "python3",
      "display_name": "Python 3"
    },
    "language_info": {
      "name": "python"
    }
  },
  "cells": [
    {
      "cell_type": "markdown",
      "source": [
        "**Agreement,Bot.Md**\n",
        "\n",
        "*02_of intro_python*\n"
      ],
      "metadata": {
        "id": "FTOaPE42317E"
      }
    },
    {
      "cell_type": "code",
      "source": [
        "def main():\n",
        "    # Ask the user for their favorite animal\n",
        "    favorite_animal = input(\"What's your favorite animal? \")\n",
        "        # Print the response including the user-inputted animal\n",
        "    print(f\"My favorite animal is also {favorite_animal}!\")\n",
        "\n"
      ],
      "metadata": {
        "id": "fvgh2RtZ4YC-"
      },
      "execution_count": 4,
      "outputs": []
    },
    {
      "cell_type": "code",
      "source": [
        "if __name__ == '__main__':\n",
        "    main()\n"
      ],
      "metadata": {
        "colab": {
          "base_uri": "https://localhost:8080/"
        },
        "id": "NVgw8gV05ErN",
        "outputId": "60c152e7-e296-4d2c-d458-755200292039"
      },
      "execution_count": 5,
      "outputs": [
        {
          "output_type": "stream",
          "name": "stdout",
          "text": [
            "What's your favorite animal? my brother\n",
            "My favorite animal is also my brother!\n"
          ]
        }
      ]
    }
  ]
}