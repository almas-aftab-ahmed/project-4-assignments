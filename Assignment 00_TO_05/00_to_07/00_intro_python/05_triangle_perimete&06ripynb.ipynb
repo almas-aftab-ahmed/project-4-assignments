{
  "nbformat": 4,
  "nbformat_minor": 0,
  "metadata": {
    "colab": {
      "provenance": []
    },
    "kernelspec": {
      "name": "python3",
      "display_name": "Python 3"
    },
    "language_info": {
      "name": "python"
    }
  },
  "cells": [
    {
      "cell_type": "code",
      "execution_count": 1,
      "metadata": {
        "colab": {
          "base_uri": "https://localhost:8080/"
        },
        "id": "yzKicBe287Jc",
        "outputId": "8bc5f704-4958-44f9-a835-4ef5bff8a70b"
      },
      "outputs": [
        {
          "output_type": "stream",
          "name": "stdout",
          "text": [
            "Almas, what is the length of side 1? 50\n",
            "Almas, what is the length of side 2? 40\n",
            "Almas, what is the length of side 3? 70\n",
            "Almas, the perimeter of the triangle is 160.0\n"
          ]
        }
      ],
      "source": [
        "def main():\n",
        "    # Get the 3 side lengths of the triangle\n",
        "    side1: float = float(input(\"Almas, what is the length of side 1? \"))\n",
        "    side2: float = float(input(\"Almas, what is the length of side 2? \"))\n",
        "    side3: float = float(input(\"Almas, what is the length of side 3? \"))\n",
        "\n",
        "    # Calculate the perimeter\n",
        "    perimeter = side1 + side2 + side3\n",
        "\n",
        "    # Print the result\n",
        "    print(\"Almas, the perimeter of the triangle is \" + str(perimeter))\n",
        "\n",
        "\n",
        "\n",
        "if __name__ == '__main__':\n",
        "    main()\n"
      ]
    },
    {
      "cell_type": "markdown",
      "source": [
        "# *06_square_number*"
      ],
      "metadata": {
        "id": "uVX3JCfw9l4z"
      }
    },
    {
      "cell_type": "code",
      "source": [
        "def main():\n",
        "    # Ask the user for a number\n",
        "    num: float = float(input(\"Almas, type a number to see its square: \"))\n",
        "\n",
        "    # Calculate and print the square\n",
        "    print(str(num) + \" squared is \" + str(num ** 2))\n",
        "\n",
        "\n",
        "\n",
        "if __name__ == '__main__':\n",
        "    main()\n"
      ],
      "metadata": {
        "colab": {
          "base_uri": "https://localhost:8080/"
        },
        "id": "9-nvRuz5-Aj_",
        "outputId": "eb6e2ed4-23ca-46c1-815b-d7b65e870dbe"
      },
      "execution_count": 2,
      "outputs": [
        {
          "output_type": "stream",
          "name": "stdout",
          "text": [
            "Almas, type a number to see its square: 6\n",
            "6.0 squared is 36.0\n"
          ]
        }
      ]
    }
  ]
}