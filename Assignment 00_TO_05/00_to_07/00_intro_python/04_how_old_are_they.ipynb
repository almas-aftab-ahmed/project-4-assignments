{
  "nbformat": 4,
  "nbformat_minor": 0,
  "metadata": {
    "colab": {
      "provenance": []
    },
    "kernelspec": {
      "name": "python3",
      "display_name": "Python 3"
    },
    "language_info": {
      "name": "python"
    }
  },
  "cells": [
    {
      "cell_type": "code",
      "execution_count": 3,
      "metadata": {
        "id": "c7zQ7Itp7q4U"
      },
      "outputs": [],
      "source": [
        "def main():\n",
        "    # Assigning ages based on the given conditions\n",
        "    almas = 18  # Almas is 18 years old\n",
        "    bina = almas + 6  # Bina is 6 years older than Almas\n",
        "    chotu = bina + 20  # Chotu is 20 years older than Bina\n",
        "    dodo = chotu + almas  # Dodo's age is Chotu's age plus Almas's age\n",
        "    eju = chotu  # Eju is the same age as Chotu\n",
        "\n",
        "\n",
        "        # Printing the ages in the required format\n",
        "    print(\"Almas is \" + str(almas))\n",
        "    print(\"Bina is \" + str(bina))\n",
        "    print(\"Chotu is \" + str(chotu))\n",
        "    print(\"Dodo is \" + str(dodo))\n",
        "    print(\"Eju is \" + str(eju))\n",
        "\n",
        "\n"
      ]
    },
    {
      "cell_type": "code",
      "source": [
        "if __name__ == '__main__':\n",
        "    main()\n"
      ],
      "metadata": {
        "colab": {
          "base_uri": "https://localhost:8080/"
        },
        "id": "bqLw8x5E8K8s",
        "outputId": "5d841550-f0ff-4304-d1b1-4cd16c7fd713"
      },
      "execution_count": 4,
      "outputs": [
        {
          "output_type": "stream",
          "name": "stdout",
          "text": [
            "Almas is 18\n",
            "Bina is 24\n",
            "Chotu is 44\n",
            "Dodo is 62\n",
            "Eju is 44\n"
          ]
        }
      ]
    }
  ]
}