{
  "nbformat": 4,
  "nbformat_minor": 0,
  "metadata": {
    "colab": {
      "provenance": []
    },
    "kernelspec": {
      "name": "python3",
      "display_name": "Python 3"
    },
    "language_info": {
      "name": "python"
    }
  },
  "cells": [
    {
      "cell_type": "markdown",
      "source": [
        "                   **03_fahrenheit_to_celsius**"
      ],
      "metadata": {
        "id": "Y0Vl1p6B55SZ"
      }
    },
    {
      "cell_type": "code",
      "execution_count": 6,
      "metadata": {
        "id": "mQI-fZVA5pxr"
      },
      "outputs": [],
      "source": [
        "def main():\n",
        "    # Prompt the user to enter temperature in Fahrenheit\n",
        "    fahrenheit = float(input(\"Enter temperature in Fahrenheit: \"))\n",
        "\n",
        "        # Convert Fahrenheit to Celsius using the given formula\n",
        "    celsius = (fahrenheit - 32) * 5.0 / 9.0\n",
        "\n",
        "    # Print the converted temperature with proper formatting\n",
        "    print(f\"Temperature: {fahrenheit:.1f}F = {celsius:.6f}C\")\n"
      ]
    },
    {
      "cell_type": "code",
      "source": [
        "if __name__ == '__main__':\n",
        "    main()\n"
      ],
      "metadata": {
        "colab": {
          "base_uri": "https://localhost:8080/"
        },
        "id": "XEls4LAg6wUy",
        "outputId": "837bbdc8-f41d-4ffe-9d28-5856b2c23c47"
      },
      "execution_count": 7,
      "outputs": [
        {
          "output_type": "stream",
          "name": "stdout",
          "text": [
            "Enter temperature in Fahrenheit: 78\n",
            "Temperature: 78.0F = 25.555556C\n"
          ]
        }
      ]
    },
    {
      "cell_type": "code",
      "source": [],
      "metadata": {
        "id": "Clh8vMna6w6-"
      },
      "execution_count": null,
      "outputs": []
    }
  ]
}