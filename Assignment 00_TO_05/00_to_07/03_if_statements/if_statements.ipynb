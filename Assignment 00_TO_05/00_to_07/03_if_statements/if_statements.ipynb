{
  "nbformat": 4,
  "nbformat_minor": 0,
  "metadata": {
    "colab": {
      "provenance": []
    },
    "kernelspec": {
      "name": "python3",
      "display_name": "Python 3"
    },
    "language_info": {
      "name": "python"
    }
  },
  "cells": [
    {
      "cell_type": "markdown",
      "source": [
        "# ***01_print_events***"
      ],
      "metadata": {
        "id": "xTBlEY3VREcp"
      }
    },
    {
      "cell_type": "code",
      "source": [
        "def main():\n",
        "    \"\"\"\n",
        "    Prints the first 20 even numbers using a loop.\n",
        "    \"\"\"\n",
        "    for i in range(20):  # Loop runs 20 times (from 0 to 19)\n",
        "        print(i * 2, end=\" \")  # Multiply 'i' by 2 to get even numbers and print on the same line\n",
        "\n",
        "# Call the main function when the script is executed\n",
        "if __name__ == \"__main__\":\n",
        "    main()\n"
      ],
      "metadata": {
        "colab": {
          "base_uri": "https://localhost:8080/"
        },
        "id": "gsKyGhP2RHI2",
        "outputId": "8faa8148-bb37-4e39-ade8-e88b71e5ce71"
      },
      "execution_count": 1,
      "outputs": [
        {
          "output_type": "stream",
          "name": "stdout",
          "text": [
            "0 2 4 6 8 10 12 14 16 18 20 22 24 26 28 30 32 34 36 38 "
          ]
        }
      ]
    },
    {
      "cell_type": "markdown",
      "source": [
        "# ***02_international_voting_age***"
      ],
      "metadata": {
        "id": "sbOagzSSUjCN"
      }
    },
    {
      "cell_type": "code",
      "source": [
        "# Define the voting ages for the new fictional countries\n",
        "ZORANIA_AGE = 18\n",
        "LUMORIA_AGE = 30\n",
        "VELDORA_AGE = 50\n",
        "\n",
        "def main():\n",
        "    \"\"\"\n",
        "    Asks the user for their age and determines if they can vote in\n",
        "    the fictional countries of Zorania, Lumoria, and Veldora.\n",
        "    \"\"\"\n",
        "    # Get the user's age as input\n",
        "    user_age = int(input(\"How old are you? \"))\n",
        "\n",
        "    # Check voting eligibility for each country and print the result\n",
        "    if user_age >= ZORANIA_AGE:\n",
        "        print(f\"You can vote in Zorania where the voting age is {ZORANIA_AGE}.\")\n",
        "    else:\n",
        "        print(f\"You cannot vote in Zorania where the voting age is {ZORANIA_AGE}.\")\n",
        "\n",
        "    if user_age >= LUMORIA_AGE:\n",
        "        print(f\"You can vote in Lumoria where the voting age is {LUMORIA_AGE}.\")\n",
        "    else:\n",
        "        print(f\"You cannot vote in Lumoria where the voting age is {LUMORIA_AGE}.\")\n",
        "\n",
        "    if user_age >= VELDORA_AGE:\n",
        "        print(f\"You can vote in Veldora where the voting age is {VELDORA_AGE}.\")\n",
        "    else:\n",
        "        print(f\"You cannot vote in Veldora where the voting age is {VELDORA_AGE}.\")\n",
        "\n",
        "# Ensures the main function runs when the script is executed\n",
        "if __name__ == '__main__':\n",
        "    main()\n"
      ],
      "metadata": {
        "colab": {
          "base_uri": "https://localhost:8080/"
        },
        "id": "k-mbQxS7Uk2U",
        "outputId": "97d59e3f-10de-4919-da57-95adf812747e"
      },
      "execution_count": 2,
      "outputs": [
        {
          "output_type": "stream",
          "name": "stdout",
          "text": [
            "How old are you? 18\n",
            "You can vote in Zorania where the voting age is 18.\n",
            "You cannot vote in Lumoria where the voting age is 30.\n",
            "You cannot vote in Veldora where the voting age is 50.\n"
          ]
        }
      ]
    },
    {
      "cell_type": "markdown",
      "source": [
        "# ***03_leap_year***"
      ],
      "metadata": {
        "id": "GgLPP3TmVJbP"
      }
    },
    {
      "cell_type": "code",
      "source": [
        "def main():\n",
        "    \"\"\"\n",
        "    Determines if a given year is a leap year based on the Gregorian calendar rules.\n",
        "    \"\"\"\n",
        "    # Get the year from the user\n",
        "    year = int(input(\"Please input a year: \"))\n",
        "\n",
        "    # Check if the year is a leap year\n",
        "    if year % 4 == 0:  # Step 1: Check if divisible by 4\n",
        "        if year % 100 == 0:  # Step 2: Check if also divisible by 100\n",
        "            if year % 400 == 0:  # Step 3: Check if also divisible by 400\n",
        "                print(\"That's a leap year!\")\n",
        "            else:  # Not divisible by 400, so not a leap year\n",
        "                print(\"That's not a leap year.\")\n",
        "        else:  # Divisible by 4 but not by 100, so it's a leap year\n",
        "            print(\"That's a leap year!\")\n",
        "    else:  # Not divisible by 4, so not a leap year\n",
        "        print(\"That's not a leap year.\")\n",
        "\n",
        "\n",
        "# This ensures that the main function runs when the script is executed\n",
        "if __name__ == '__main__':\n",
        "    main()\n"
      ],
      "metadata": {
        "colab": {
          "base_uri": "https://localhost:8080/"
        },
        "id": "LZhcahCxViaC",
        "outputId": "88f7b66d-0c92-4853-ba87-55e91b2dc467"
      },
      "execution_count": 3,
      "outputs": [
        {
          "output_type": "stream",
          "name": "stdout",
          "text": [
            "Please input a year: 2025\n",
            "That's not a leap year.\n"
          ]
        }
      ]
    },
    {
      "cell_type": "markdown",
      "source": [
        "# ***04_tall_enough_to_ride***"
      ],
      "metadata": {
        "id": "hnUy3UnUVr2d"
      }
    },
    {
      "cell_type": "code",
      "source": [
        "# Define the minimum height required to ride\n",
        "MINIMUM_HEIGHT: int = 50  # Arbitrary units (e.g., cm or inches)\n",
        "\n",
        "def main():\n",
        "    \"\"\"\n",
        "    Continuously asks the user for their height and determines if they can ride.\n",
        "    Stops when the user enters an empty input.\n",
        "    \"\"\"\n",
        "    while True:\n",
        "        # Ask the user for their height\n",
        "        height_input = input(\"How tall are you? (Press Enter to quit) \")\n",
        "\n",
        "        # Check if the user pressed Enter without inputting a value\n",
        "        if height_input == \"\":\n",
        "            print(\"Exiting the program. Have a great day!\")\n",
        "            break  # Exit the loop\n",
        "\n",
        "        # Convert the input to a float and check the height condition\n",
        "        height = float(height_input)\n",
        "        if height >= MINIMUM_HEIGHT:\n",
        "            print(\"You're tall enough to ride! 🎢\")\n",
        "        else:\n",
        "            print(\"You're not tall enough to ride, but maybe next year! 😊\")\n",
        "\n",
        "\n",
        "# Ensures the main function runs when the script is executed\n",
        "if __name__ == '__main__':\n",
        "    main()\n"
      ],
      "metadata": {
        "colab": {
          "base_uri": "https://localhost:8080/"
        },
        "id": "1UuDFtU0VyXU",
        "outputId": "a8ca927e-a607-47b4-ec7c-b53226e8fed9"
      },
      "execution_count": 4,
      "outputs": [
        {
          "output_type": "stream",
          "name": "stdout",
          "text": [
            "How tall are you? (Press Enter to quit) 45\n",
            "You're not tall enough to ride, but maybe next year! 😊\n",
            "How tall are you? (Press Enter to quit) 79\n",
            "You're tall enough to ride! 🎢\n",
            "How tall are you? (Press Enter to quit) \n",
            "Exiting the program. Have a great day!\n"
          ]
        }
      ]
    },
    {
      "cell_type": "markdown",
      "source": [
        "# ***05_random_numbers***"
      ],
      "metadata": {
        "id": "MlR1rX-FWQ7F"
      }
    },
    {
      "cell_type": "code",
      "source": [
        "import random\n",
        "\n",
        "# Constants for the number of random values and their range\n",
        "N_NUMBERS: int = 15  # Changed from 10 to 15\n",
        "MIN_VALUE: int = 50  # Changed from 1 to 50\n",
        "MAX_VALUE: int = 200  # Changed from 100 to 200\n",
        "\n",
        "def main():\n",
        "    \"\"\"\n",
        "    Prints 15 random numbers in the range 50 to 200.\n",
        "    \"\"\"\n",
        "    random_numbers = [random.randint(MIN_VALUE, MAX_VALUE) for _ in range(N_NUMBERS)]\n",
        "    print(\" \".join(map(str, random_numbers)))  # Print numbers in a single line\n",
        "\n",
        "if __name__ == '__main__':\n",
        "    main()\n"
      ],
      "metadata": {
        "colab": {
          "base_uri": "https://localhost:8080/"
        },
        "id": "8kJ3ORdJWntM",
        "outputId": "3719d259-63eb-4315-c61a-9b40806bdb35"
      },
      "execution_count": 6,
      "outputs": [
        {
          "output_type": "stream",
          "name": "stdout",
          "text": [
            "63 59 130 187 81 86 97 119 147 148 67 113 182 89 126\n"
          ]
        }
      ]
    }
  ]
}