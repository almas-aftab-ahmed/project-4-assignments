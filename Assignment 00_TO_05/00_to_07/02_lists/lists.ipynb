{
  "nbformat": 4,
  "nbformat_minor": 0,
  "metadata": {
    "colab": {
      "provenance": []
    },
    "kernelspec": {
      "name": "python3",
      "display_name": "Python 3"
    },
    "language_info": {
      "name": "python"
    },
    "widgets": {
      "application/vnd.jupyter.widget-state+json": {
        "7eac232880454c3bb5a99d3c1389f91d": {
          "model_module": "@jupyter-widgets/controls",
          "model_name": "IntSliderModel",
          "model_module_version": "1.5.0",
          "state": {
            "_dom_classes": [],
            "_model_module": "@jupyter-widgets/controls",
            "_model_module_version": "1.5.0",
            "_model_name": "IntSliderModel",
            "_view_count": null,
            "_view_module": "@jupyter-widgets/controls",
            "_view_module_version": "1.5.0",
            "_view_name": "IntSliderView",
            "continuous_update": true,
            "description": "X Position:",
            "description_tooltip": null,
            "disabled": false,
            "layout": "IPY_MODEL_cf00e5a4d0e24dc0a566eab25a2d77bc",
            "max": 5,
            "min": 0,
            "orientation": "horizontal",
            "readout": true,
            "readout_format": "d",
            "step": 1,
            "style": "IPY_MODEL_34da2eab79734f659204617389c556d9",
            "value": 0
          }
        },
        "cf00e5a4d0e24dc0a566eab25a2d77bc": {
          "model_module": "@jupyter-widgets/base",
          "model_name": "LayoutModel",
          "model_module_version": "1.2.0",
          "state": {
            "_model_module": "@jupyter-widgets/base",
            "_model_module_version": "1.2.0",
            "_model_name": "LayoutModel",
            "_view_count": null,
            "_view_module": "@jupyter-widgets/base",
            "_view_module_version": "1.2.0",
            "_view_name": "LayoutView",
            "align_content": null,
            "align_items": null,
            "align_self": null,
            "border": null,
            "bottom": null,
            "display": null,
            "flex": null,
            "flex_flow": null,
            "grid_area": null,
            "grid_auto_columns": null,
            "grid_auto_flow": null,
            "grid_auto_rows": null,
            "grid_column": null,
            "grid_gap": null,
            "grid_row": null,
            "grid_template_areas": null,
            "grid_template_columns": null,
            "grid_template_rows": null,
            "height": null,
            "justify_content": null,
            "justify_items": null,
            "left": null,
            "margin": null,
            "max_height": null,
            "max_width": null,
            "min_height": null,
            "min_width": null,
            "object_fit": null,
            "object_position": null,
            "order": null,
            "overflow": null,
            "overflow_x": null,
            "overflow_y": null,
            "padding": null,
            "right": null,
            "top": null,
            "visibility": null,
            "width": null
          }
        },
        "34da2eab79734f659204617389c556d9": {
          "model_module": "@jupyter-widgets/controls",
          "model_name": "SliderStyleModel",
          "model_module_version": "1.5.0",
          "state": {
            "_model_module": "@jupyter-widgets/controls",
            "_model_module_version": "1.5.0",
            "_model_name": "SliderStyleModel",
            "_view_count": null,
            "_view_module": "@jupyter-widgets/base",
            "_view_module_version": "1.2.0",
            "_view_name": "StyleView",
            "description_width": "",
            "handle_color": null
          }
        },
        "3d5e21a25bd740c8b13ae20b1f406c67": {
          "model_module": "@jupyter-widgets/controls",
          "model_name": "IntSliderModel",
          "model_module_version": "1.5.0",
          "state": {
            "_dom_classes": [],
            "_model_module": "@jupyter-widgets/controls",
            "_model_module_version": "1.5.0",
            "_model_name": "IntSliderModel",
            "_view_count": null,
            "_view_module": "@jupyter-widgets/controls",
            "_view_module_version": "1.5.0",
            "_view_name": "IntSliderView",
            "continuous_update": true,
            "description": "Y Position:",
            "description_tooltip": null,
            "disabled": false,
            "layout": "IPY_MODEL_1d7a9bce78aa45c8b788737c262aafe5",
            "max": 6,
            "min": 0,
            "orientation": "horizontal",
            "readout": true,
            "readout_format": "d",
            "step": 1,
            "style": "IPY_MODEL_343abfcfe7134f018fa7609526156a1f",
            "value": 0
          }
        },
        "1d7a9bce78aa45c8b788737c262aafe5": {
          "model_module": "@jupyter-widgets/base",
          "model_name": "LayoutModel",
          "model_module_version": "1.2.0",
          "state": {
            "_model_module": "@jupyter-widgets/base",
            "_model_module_version": "1.2.0",
            "_model_name": "LayoutModel",
            "_view_count": null,
            "_view_module": "@jupyter-widgets/base",
            "_view_module_version": "1.2.0",
            "_view_name": "LayoutView",
            "align_content": null,
            "align_items": null,
            "align_self": null,
            "border": null,
            "bottom": null,
            "display": null,
            "flex": null,
            "flex_flow": null,
            "grid_area": null,
            "grid_auto_columns": null,
            "grid_auto_flow": null,
            "grid_auto_rows": null,
            "grid_column": null,
            "grid_gap": null,
            "grid_row": null,
            "grid_template_areas": null,
            "grid_template_columns": null,
            "grid_template_rows": null,
            "height": null,
            "justify_content": null,
            "justify_items": null,
            "left": null,
            "margin": null,
            "max_height": null,
            "max_width": null,
            "min_height": null,
            "min_width": null,
            "object_fit": null,
            "object_position": null,
            "order": null,
            "overflow": null,
            "overflow_x": null,
            "overflow_y": null,
            "padding": null,
            "right": null,
            "top": null,
            "visibility": null,
            "width": null
          }
        },
        "343abfcfe7134f018fa7609526156a1f": {
          "model_module": "@jupyter-widgets/controls",
          "model_name": "SliderStyleModel",
          "model_module_version": "1.5.0",
          "state": {
            "_model_module": "@jupyter-widgets/controls",
            "_model_module_version": "1.5.0",
            "_model_name": "SliderStyleModel",
            "_view_count": null,
            "_view_module": "@jupyter-widgets/base",
            "_view_module_version": "1.2.0",
            "_view_name": "StyleView",
            "description_width": "",
            "handle_color": null
          }
        }
      }
    }
  },
  "cells": [
    {
      "cell_type": "code",
      "execution_count": null,
      "metadata": {
        "id": "dgKcp9VFCKBF"
      },
      "outputs": [],
      "source": []
    },
    {
      "cell_type": "markdown",
      "source": [
        "# **01_add_many_number**"
      ],
      "metadata": {
        "id": "DMmClIwaFDw1"
      }
    },
    {
      "cell_type": "code",
      "source": [
        "# Function to add numbers in a list\n",
        "def add_many_numbers(numbers: list[int]) -> int:\n",
        "    \"\"\"\n",
        "    This function takes a list of numbers and returns their sum.\n",
        "    \"\"\"\n",
        "    total = 0  # Initialize total as 0\n",
        "    for number in numbers:\n",
        "        total += number  # Add each number to total\n",
        "    return total  # Return the final sum\n",
        "\n",
        "# Main function\n",
        "def main():\n",
        "    numbers = [1, 2, 3, 4, 5]  # List of numbers\n",
        "    sum_of_numbers = add_many_numbers(numbers)  # Call function to get sum\n",
        "    print(\"Sum of numbers:\", sum_of_numbers)  # Print the result\n",
        "\n",
        "# Required to run the main function\n",
        "if __name__ == '__main__':\n",
        "    main()\n"
      ],
      "metadata": {
        "colab": {
          "base_uri": "https://localhost:8080/"
        },
        "id": "Gp7zyMpIFLXl",
        "outputId": "79e84bdc-0ace-437e-b33b-cf3ead767088"
      },
      "execution_count": 1,
      "outputs": [
        {
          "output_type": "stream",
          "name": "stdout",
          "text": [
            "Sum of numbers: 15\n"
          ]
        }
      ]
    },
    {
      "cell_type": "markdown",
      "source": [
        "# ***02_double_list***"
      ],
      "metadata": {
        "id": "AU4oex1bFsA2"
      }
    },
    {
      "cell_type": "code",
      "source": [
        "# Function to double each element in a list\n",
        "def double_numbers(numbers: list[int]) -> list[int]:\n",
        "    \"\"\"\n",
        "    This function takes a list of numbers and returns a new list\n",
        "    where each number is doubled.\n",
        "    \"\"\"\n",
        "    return [num * 2 for num in numbers]  # List comprehension for clean code\n",
        "\n",
        "# Main function\n",
        "def main():\n",
        "    numbers = [1, 2, 3, 4]  # Original list\n",
        "    doubled_numbers = double_numbers(numbers)  # Call function to double numbers\n",
        "    print(\"Doubled list:\", doubled_numbers)  # Print the result\n",
        "\n",
        "# Required to run the main function\n",
        "if __name__ == '__main__':\n",
        "    main()\n"
      ],
      "metadata": {
        "colab": {
          "base_uri": "https://localhost:8080/"
        },
        "id": "LdKpJ68PFzw3",
        "outputId": "c9c01274-add6-4403-dec5-4741668d0c58"
      },
      "execution_count": 2,
      "outputs": [
        {
          "output_type": "stream",
          "name": "stdout",
          "text": [
            "Doubled list: [2, 4, 6, 8]\n"
          ]
        }
      ]
    },
    {
      "cell_type": "markdown",
      "source": [
        "# ***03_erase_canvas***"
      ],
      "metadata": {
        "id": "ZGNYn0H5GdsC"
      }
    },
    {
      "cell_type": "code",
      "source": [
        "import numpy as np\n",
        "import matplotlib.pyplot as plt\n",
        "from matplotlib.patches import Rectangle\n",
        "import ipywidgets as widgets\n",
        "from IPython.display import display\n",
        "\n",
        "# Constants\n",
        "ROWS, COLS = 8, 7  # 8x7 Grid\n",
        "CELL_SIZE = 1  # Each cell size\n",
        "ERASER_SIZE = 2  # Eraser covers 2x2 cells\n",
        "\n",
        "# Create figure and axis\n",
        "fig, ax = plt.subplots(figsize=(5, 5))\n",
        "ax.set_xticks([])\n",
        "ax.set_yticks([])\n",
        "ax.set_xlim(0, COLS)\n",
        "ax.set_ylim(0, ROWS)\n",
        "\n",
        "# Draw the grid\n",
        "rectangles = {}\n",
        "for i in range(ROWS):\n",
        "    for j in range(COLS):\n",
        "        rect = Rectangle((j, i), 1, 1, facecolor='blue', edgecolor='black')\n",
        "        ax.add_patch(rect)\n",
        "        rectangles[(j, i)] = rect  # Store for reference\n",
        "\n",
        "# Eraser (Pink Box)\n",
        "eraser = Rectangle((0, 0), ERASER_SIZE, ERASER_SIZE, facecolor='pink', alpha=0.5)\n",
        "ax.add_patch(eraser)\n",
        "\n",
        "# Update eraser position and erase cells under it\n",
        "def update_eraser_position(x, y):\n",
        "    eraser.set_xy((x, y))  # Move eraser to the new position\n",
        "\n",
        "    # Erase cells under the eraser\n",
        "    for i in range(x, x + ERASER_SIZE):\n",
        "        for j in range(y, y + ERASER_SIZE):\n",
        "            if (j, i) in rectangles:\n",
        "                rectangles[(j, i)].set_facecolor('white')  # Change color to white\n",
        "\n",
        "    fig.canvas.draw_idle()  # Update plot\n",
        "\n",
        "# Create sliders to simulate mouse movement for eraser (using `ipywidgets`)\n",
        "x_slider = widgets.IntSlider(value=0, min=0, max=COLS-ERASER_SIZE, step=1, description='X Position:')\n",
        "y_slider = widgets.IntSlider(value=0, min=0, max=ROWS-ERASER_SIZE, step=1, description='Y Position:')\n",
        "\n",
        "# Link sliders to eraser movement\n",
        "widgets.interactive(update_eraser_position, x=x_slider, y=y_slider)\n",
        "\n",
        "# Display the sliders and plot\n",
        "display(x_slider, y_slider)\n",
        "plt.show()\n"
      ],
      "metadata": {
        "colab": {
          "base_uri": "https://localhost:8080/",
          "height": 484,
          "referenced_widgets": [
            "7eac232880454c3bb5a99d3c1389f91d",
            "cf00e5a4d0e24dc0a566eab25a2d77bc",
            "34da2eab79734f659204617389c556d9",
            "3d5e21a25bd740c8b13ae20b1f406c67",
            "1d7a9bce78aa45c8b788737c262aafe5",
            "343abfcfe7134f018fa7609526156a1f"
          ]
        },
        "id": "eJUCCdghLZpM",
        "outputId": "ab37a370-1e4a-4c66-9e4f-c146715d7bda"
      },
      "execution_count": 5,
      "outputs": [
        {
          "output_type": "display_data",
          "data": {
            "text/plain": [
              "IntSlider(value=0, description='X Position:', max=5)"
            ],
            "application/vnd.jupyter.widget-view+json": {
              "version_major": 2,
              "version_minor": 0,
              "model_id": "7eac232880454c3bb5a99d3c1389f91d"
            }
          },
          "metadata": {}
        },
        {
          "output_type": "display_data",
          "data": {
            "text/plain": [
              "IntSlider(value=0, description='Y Position:', max=6)"
            ],
            "application/vnd.jupyter.widget-view+json": {
              "version_major": 2,
              "version_minor": 0,
              "model_id": "3d5e21a25bd740c8b13ae20b1f406c67"
            }
          },
          "metadata": {}
        },
        {
          "output_type": "display_data",
          "data": {
            "text/plain": [
              "<Figure size 500x500 with 1 Axes>"
            ],
            "image/png": "[encoded data removed]"
          },
          "metadata": {}
        }
      ]
    },
    {
      "cell_type": "markdown",
      "source": [
        "# ***04_flowing_with_data_structures***"
      ],
      "metadata": {
        "id": "JYMqFAp-Lmj0"
      }
    },
    {
      "cell_type": "code",
      "source": [
        "def add_three_copies(my_list, data):\n",
        "    for i in range(3):  # Loop to append the data three times\n",
        "        my_list.append(data)\n",
        "\n",
        "# Main function\n",
        "def main():\n",
        "    message = input(\"Enter a message to copy: \")  # Get message from user\n",
        "    my_list = []  # Initialize an empty list\n",
        "    print(\"List before:\", my_list)  # Display the list before modification\n",
        "    add_three_copies(my_list, message)  # Call the function to add data to list\n",
        "    print(\"List after:\", my_list)  # Display the list after modification\n",
        "\n",
        "if __name__ == \"__main__\":\n",
        "    main()\n"
      ],
      "metadata": {
        "colab": {
          "base_uri": "https://localhost:8080/"
        },
        "id": "Y6y3XEwBNARy",
        "outputId": "da972388-11ba-4982-ae1c-b13639aefac9"
      },
      "execution_count": 8,
      "outputs": [
        {
          "output_type": "stream",
          "name": "stdout",
          "text": [
            "Enter a message to copy: hi its me python\n",
            "List before: []\n",
            "List after: ['hi its me python', 'hi its me python', 'hi its me python']\n"
          ]
        }
      ]
    },
    {
      "cell_type": "markdown",
      "source": [
        "# ***05_get_first_element***"
      ],
      "metadata": {
        "id": "eJCFxNedNmS2"
      }
    },
    {
      "cell_type": "code",
      "source": [
        "def get_first_element(lst):\n",
        "    \"\"\"\n",
        "    Prints the first element of a provided list.\n",
        "    \"\"\"\n",
        "    print(lst[0])\n",
        "\n",
        "def get_lst():\n",
        "    \"\"\"\n",
        "    Prompts the user to enter one element of the list at a time and returns the resulting list.\n",
        "    \"\"\"\n",
        "    lst = []\n",
        "    elem = input(\"Please enter an element of the list or press enter to stop: \")\n",
        "    while elem != \"\":\n",
        "        lst.append(elem)\n",
        "        elem = input(\"Please enter an element of the list or press enter to stop: \")\n",
        "    return lst\n",
        "\n",
        "def main():\n",
        "    lst = get_lst()\n",
        "    get_first_element(lst)\n",
        "\n",
        "if __name__ == '__main__':\n",
        "    main()\n"
      ],
      "metadata": {
        "colab": {
          "base_uri": "https://localhost:8080/"
        },
        "id": "uN_ceA2nNpDH",
        "outputId": "d16003b9-42ad-42e8-9e0e-4b87d5068b7c"
      },
      "execution_count": 9,
      "outputs": [
        {
          "output_type": "stream",
          "name": "stdout",
          "text": [
            "Please enter an element of the list or press enter to stop: hi\n",
            "Please enter an element of the list or press enter to stop: hi\n",
            "Please enter an element of the list or press enter to stop: bye\n",
            "Please enter an element of the list or press enter to stop: byeee\n",
            "Please enter an element of the list or press enter to stop: \n",
            "hi\n"
          ]
        }
      ]
    },
    {
      "cell_type": "markdown",
      "source": [
        "# ***06_get_last_element***"
      ],
      "metadata": {
        "id": "aUgKS3OAOFEK"
      }
    },
    {
      "cell_type": "code",
      "source": [
        "def get_last_element(lst):\n",
        "    \"\"\"\n",
        "    Prints the last element of the provided list.\n",
        "    \"\"\"\n",
        "    # Using the length of the list to get the last element's index\n",
        "    print(lst[len(lst) - 1])\n",
        "\n",
        "    # Alternatively, you can use the more Pythonic way to get the last element\n",
        "    # print(lst[-1])\n",
        "\n",
        "def get_lst():\n",
        "    \"\"\"\n",
        "    Prompts the user to enter one element of the list at a time and returns the resulting list.\n",
        "    \"\"\"\n",
        "    lst = []  # Initialize an empty list to store user input\n",
        "\n",
        "    # Start prompting the user for input\n",
        "    elem = input(\"Please enter an element of the list or press enter to stop: \")\n",
        "\n",
        "    # Continue asking for elements until the user presses enter without typing anything\n",
        "    while elem != \"\":\n",
        "        lst.append(elem)  # Add the entered element to the list\n",
        "        elem = input(\"Please enter an element of the list or press enter to stop: \")  # Prompt for next input\n",
        "\n",
        "    return lst  # Return the completed list\n",
        "\n",
        "def main():\n",
        "    \"\"\"\n",
        "    Main function that drives the program.\n",
        "    It calls get_lst() to get a list from the user and then calls get_last_element() to print the last element of the list.\n",
        "    \"\"\"\n",
        "    lst = get_lst()  # Get the list from the user\n",
        "    get_last_element(lst)  # Print the last element of the list\n",
        "\n",
        "# This line ensures that the main function is called only if this script is run directly\n",
        "if __name__ == '__main__':\n",
        "    main()\n"
      ],
      "metadata": {
        "colab": {
          "base_uri": "https://localhost:8080/"
        },
        "id": "Y6N92TtfOLaY",
        "outputId": "feed754c-a22b-41e3-91d6-d188b9852f4c"
      },
      "execution_count": 10,
      "outputs": [
        {
          "output_type": "stream",
          "name": "stdout",
          "text": [
            "Please enter an element of the list or press enter to stop: apple\n",
            "Please enter an element of the list or press enter to stop: banana\n",
            "Please enter an element of the list or press enter to stop: cherry\n",
            "Please enter an element of the list or press enter to stop: berry\n",
            "Please enter an element of the list or press enter to stop: \n",
            "berry\n"
          ]
        }
      ]
    },
    {
      "cell_type": "markdown",
      "source": [
        "# ***07_get_list***"
      ],
      "metadata": {
        "id": "YIovztx5Oq4a"
      }
    },
    {
      "cell_type": "code",
      "source": [
        "def main():\n",
        "    \"\"\"\n",
        "    This function continuously asks the user to enter values,\n",
        "    stores them in a list, and prints the list when the user presses enter without typing anything.\n",
        "    \"\"\"\n",
        "    lst = []  # Initialize an empty list to store user input\n",
        "\n",
        "    # Prompt the user for input\n",
        "    val = input(\"Enter a value: \")\n",
        "\n",
        "    # Continue asking for values until the user presses enter without typing anything\n",
        "    while val:\n",
        "        lst.append(val)  # Add the entered value to the list\n",
        "        val = input(\"Enter a value: \")  # Ask for the next input\n",
        "\n",
        "    # Print the final list when the user stops entering values\n",
        "    print(\"Here's the list:\", lst)\n",
        "\n",
        "\n",
        "# Ensures the main function runs only if this script is executed directly\n",
        "if __name__ == '__main__':\n",
        "    main()\n"
      ],
      "metadata": {
        "colab": {
          "base_uri": "https://localhost:8080/"
        },
        "id": "puGV3ilCPDJR",
        "outputId": "a7cfcbf8-b9df-414e-f577-349bc5fdd66d"
      },
      "execution_count": 11,
      "outputs": [
        {
          "output_type": "stream",
          "name": "stdout",
          "text": [
            "Enter a value: 10\n",
            "Enter a value: bro\n",
            "Enter a value: 55\n",
            "Enter a value: \n",
            "Here's the list: ['10', 'bro', '55']\n"
          ]
        }
      ]
    },
    {
      "cell_type": "markdown",
      "source": [
        "# ***08_shorten***"
      ],
      "metadata": {
        "id": "Et9x3Ci6PVne"
      }
    },
    {
      "cell_type": "code",
      "source": [
        "# Define the maximum allowed length of the list\n",
        "MAX_LENGTH: int = 3\n",
        "\n",
        "def shorten(lst):\n",
        "    \"\"\"\n",
        "    Removes elements from the end of the list until it is MAX_LENGTH long.\n",
        "    Prints each removed element.\n",
        "    \"\"\"\n",
        "    while len(lst) > MAX_LENGTH:  # Continue removing elements if the list is too long\n",
        "        last_elem = lst.pop()  # Remove the last element\n",
        "        print(last_elem)  # Print the removed element\n",
        "\n",
        "def get_lst():\n",
        "    \"\"\"\n",
        "    Prompts the user to enter elements into a list one at a time.\n",
        "    Stops taking input when the user presses enter without typing anything.\n",
        "    \"\"\"\n",
        "    lst = []  # Initialize an empty list\n",
        "    elem = input(\"Please enter an element of the list or press enter to stop: \")  # Prompt for input\n",
        "\n",
        "    while elem != \"\":  # Continue taking input until the user presses enter without typing anything\n",
        "        lst.append(elem)  # Add the entered element to the list\n",
        "        elem = input(\"Please enter an element of the list or press enter to stop: \")  # Ask for the next element\n",
        "\n",
        "    return lst  # Return the final list\n",
        "\n",
        "def main():\n",
        "    \"\"\"\n",
        "    Gets a list from the user and shortens it if necessary.\n",
        "    \"\"\"\n",
        "    lst = get_lst()  # Get the list from user input\n",
        "    shorten(lst)  # Call the function to remove extra elements\n",
        "\n",
        "if __name__ == '__main__':\n",
        "    main()  # Run the program\n"
      ],
      "metadata": {
        "colab": {
          "base_uri": "https://localhost:8080/"
        },
        "id": "6nzTSDl-Pi4C",
        "outputId": "279ce2f9-86da-405d-ccd6-f0e6c021412d"
      },
      "execution_count": 12,
      "outputs": [
        {
          "output_type": "stream",
          "name": "stdout",
          "text": [
            "Please enter an element of the list or press enter to stop: potato\n",
            "Please enter an element of the list or press enter to stop: kiwi\n",
            "Please enter an element of the list or press enter to stop: brocolli\n",
            "Please enter an element of the list or press enter to stop: pineapple\n",
            "Please enter an element of the list or press enter to stop: \n",
            "pineapple\n"
          ]
        }
      ]
    }
  ]
}