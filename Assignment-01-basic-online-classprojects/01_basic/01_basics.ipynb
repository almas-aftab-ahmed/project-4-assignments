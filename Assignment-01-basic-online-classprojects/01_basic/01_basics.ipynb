{
  "nbformat": 4,
  "nbformat_minor": 0,
  "metadata": {
    "colab": {
      "provenance": []
    },
    "kernelspec": {
      "name": "python3",
      "display_name": "Python 3"
    },
    "language_info": {
      "name": "python"
    }
  },
  "cells": [
    {
      "cell_type": "markdown",
      "source": [
        "# ***00_joke_bot***"
      ],
      "metadata": {
        "id": "K5bJOjO9UY2A"
      }
    },
    {
      "cell_type": "code",
      "source": [
        "# Constants for the prompt, joke, and sorry message\n",
        "PROMPT = \"What do you want? \"\n",
        "JOKE = \"Here is a joke for you! Panaversity GPT - Sophia is heading out to the grocery store. A programmer tells her: get a liter of milk, and if they have eggs, get 12. Sophia returns with 13 liters of milk. The programmer asks why and Sophia replies: 'because they had eggs'\"\n",
        "SORRY = \"Sorry I only tell jokes\"\n",
        "\n",
        "def main():\n",
        "    # Ask the user for their input\n",
        "    user_input = input(PROMPT)\n",
        "\n",
        "    # Check if the user entered \"Joke\"\n",
        "    if user_input == \"Joke\":\n",
        "        print(JOKE)  # Print the joke if user entered \"Joke\"\n",
        "    else:\n",
        "        print(SORRY)  # Print the sorry message if user entered anything else\n",
        "\n",
        "if __name__ == '__main__':\n",
        "    main()\n"
      ],
      "metadata": {
        "colab": {
          "base_uri": "https://localhost:8080/"
        },
        "id": "PlKvTCb1UcbC",
        "outputId": "c9076c2c-b2c4-42ef-f5d9-b22c03e7ba35"
      },
      "execution_count": 5,
      "outputs": [
        {
          "output_type": "stream",
          "name": "stdout",
          "text": [
            "What do you want? Joke\n",
            "Here is a joke for you! Panaversity GPT - Sophia is heading out to the grocery store. A programmer tells her: get a liter of milk, and if they have eggs, get 12. Sophia returns with 13 liters of milk. The programmer asks why and Sophia replies: 'because they had eggs'\n"
          ]
        }
      ]
    },
    {
      "cell_type": "markdown",
      "source": [
        "# ***01_double_it***"
      ],
      "metadata": {
        "id": "e4RF2eBFVDD7"
      }
    },
    {
      "cell_type": "code",
      "source": [
        "def main():\n",
        "    # Ask the user to enter a number\n",
        "    curr_value = int(input(\"Enter a number: \"))\n",
        "\n",
        "    # Loop while curr_value is less than 100\n",
        "    while curr_value < 100:\n",
        "        # Double the current value\n",
        "        curr_value *= 2\n",
        "        # Print the current doubled value\n",
        "        print(curr_value, end=\" \")\n",
        "\n",
        "if __name__ == '__main__':\n",
        "    main()\n"
      ],
      "metadata": {
        "colab": {
          "base_uri": "https://localhost:8080/"
        },
        "id": "vnttQla0VE-i",
        "outputId": "dbc3b331-b903-45af-d729-adff8fe54fa0"
      },
      "execution_count": 6,
      "outputs": [
        {
          "output_type": "stream",
          "name": "stdout",
          "text": [
            "Enter a number: 40\n",
            "80 160 "
          ]
        }
      ]
    },
    {
      "cell_type": "markdown",
      "source": [
        "# ***02_liftoff***"
      ],
      "metadata": {
        "id": "C9X7ZFMqVdBJ"
      }
    },
    {
      "cell_type": "code",
      "source": [
        "def main():\n",
        "    # Countdown from 10 to 1\n",
        "    for i in range(10, 0, -1):\n",
        "        print(i, end=\" \")\n",
        "\n",
        "    # Print Liftoff!\n",
        "    print(\"Liftoff!\")\n",
        "\n",
        "if __name__ == '__main__':\n",
        "    main()\n"
      ],
      "metadata": {
        "colab": {
          "base_uri": "https://localhost:8080/"
        },
        "id": "LTzcQxX3Ve-_",
        "outputId": "dccb4fd7-d785-4f4f-edc7-ac6d4ac7c2d9"
      },
      "execution_count": 7,
      "outputs": [
        {
          "output_type": "stream",
          "name": "stdout",
          "text": [
            "10 9 8 7 6 5 4 3 2 1 Liftoff!\n"
          ]
        }
      ]
    },
    {
      "cell_type": "markdown",
      "source": [
        "# ***03_guess_my_number***"
      ],
      "metadata": {
        "id": "6gPsFr_oVyI2"
      }
    },
    {
      "cell_type": "code",
      "source": [
        "import random\n",
        "\n",
        "def main():\n",
        "    # The program chooses a random number between 0 and 99\n",
        "    number_to_guess = random.randint(0, 99)\n",
        "\n",
        "    print(\"I am thinking of a number between 0 and 99...\")\n",
        "\n",
        "    # Initialize the guess variable\n",
        "    guess = -1\n",
        "\n",
        "    # Loop until the user guesses the correct number\n",
        "    while guess != number_to_guess:\n",
        "        guess = int(input(\"Enter a guess: \"))\n",
        "\n",
        "        if guess < number_to_guess:\n",
        "            print(\"Your guess is too low\")\n",
        "        elif guess > number_to_guess:\n",
        "            print(\"Your guess is too high\")\n",
        "\n",
        "    # Once the correct number is guessed\n",
        "    print(f\"Congrats! The number was: {number_to_guess}\")\n",
        "\n",
        "if __name__ == '__main__':\n",
        "    main()\n"
      ],
      "metadata": {
        "colab": {
          "base_uri": "https://localhost:8080/"
        },
        "id": "jOS0dXkzVz8g",
        "outputId": "75704c0c-c309-482c-a085-944a00377da9"
      },
      "execution_count": 8,
      "outputs": [
        {
          "output_type": "stream",
          "name": "stdout",
          "text": [
            "I am thinking of a number between 0 and 99...\n",
            "Enter a guess: 79\n",
            "Your guess is too low\n",
            "Enter a guess: 80\n",
            "Your guess is too low\n",
            "Enter a guess: 92\n",
            "Your guess is too high\n",
            "Enter a guess: 91\n",
            "Your guess is too high\n",
            "Enter a guess: 90\n",
            "Your guess is too high\n",
            "Enter a guess: 81\n",
            "Congrats! The number was: 81\n"
          ]
        }
      ]
    },
    {
      "cell_type": "markdown",
      "source": [
        "# ***04_random_numbers***"
      ],
      "metadata": {
        "id": "eu2TSbotWKJz"
      }
    },
    {
      "cell_type": "code",
      "source": [
        "import random\n",
        "\n",
        "def main():\n",
        "    # Print 10 random numbers between 1 and 100\n",
        "    for _ in range(10):\n",
        "        print(random.randint(1, 100), end=' ')\n",
        "\n",
        "if __name__ == '__main__':\n",
        "    main()\n"
      ],
      "metadata": {
        "colab": {
          "base_uri": "https://localhost:8080/"
        },
        "id": "1TsY93ZdWQRu",
        "outputId": "9c64bf1e-ffca-4c04-f2e5-fa8adf5de463"
      },
      "execution_count": 9,
      "outputs": [
        {
          "output_type": "stream",
          "name": "stdout",
          "text": [
            "57 65 25 80 63 24 33 68 99 23 "
          ]
        }
      ]
    }
  ]
}